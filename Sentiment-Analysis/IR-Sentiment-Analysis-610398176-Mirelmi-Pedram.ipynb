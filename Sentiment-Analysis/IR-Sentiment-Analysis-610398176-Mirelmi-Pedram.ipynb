{
 "cells": [
  {
   "cell_type": "markdown",
   "metadata": {},
   "source": [
    "# First we define some functions to preprocess the text documents before we do the training.\n"
   ]
  },
  {
   "cell_type": "code",
   "execution_count": 1,
   "metadata": {},
   "outputs": [
    {
     "data": {
      "text/plain": [
       "'\\nA funciton that does all the job at once\\n'"
      ]
     },
     "execution_count": 1,
     "metadata": {},
     "output_type": "execute_result"
    }
   ],
   "source": [
    "import re           \n",
    "\"\"\"\n",
    "    we need re for basic string pattern \n",
    "    like removing non alphabet characters in removeNonAlpha function\n",
    "\"\"\"\n",
    "import nltk\n",
    "stop_words_set = set(nltk.corpus.stopwords.words('english'))\n",
    "stemmer = nltk.stem.PorterStemmer()\n",
    "lemmatizer = nltk.stem.WordNetLemmatizer()\n",
    "\n",
    "def removeNonAlpha(s: str):\n",
    "    return re.sub(r'[^A-Za-z\\s]', '', s)\n",
    "\"\"\"\n",
    "    here because to apply three operations (remove stop words, stemming and lemmatizing)\n",
    "    we need to tokenize the whole string and then concat all tokens at the end. we did all three operations in one functions\n",
    "    to avoid repeating tokenizing and joining tokens ... \n",
    "\"\"\"\n",
    "\n",
    "\n",
    "\n",
    "def removeStopWordsAndStemAndLemmatize(s: str):\n",
    "    return ' '.join([stemmer.stem(lemmatizer.lemmatize(token)) for token in nltk.tokenize.word_tokenize(s) if not token in stop_words_set])\n",
    "\"\"\"\n",
    "    In this function we first lemmatize the token. for example it converts \"cities\" -> \"city\"\n",
    "    or some irregular cases like: \"mice\" -> \"mouse\"\n",
    "\n",
    "    Then we stemm the token. somehow it converts some tokens to their root. \n",
    "    like: several -> sever   \n",
    "\n",
    "    And then we add it to the list only if it's not a stop word. then we join all tokens with ' ' and return the string\n",
    "\n",
    "    Reference for preprocessing: \n",
    "        https://github.com/aravinthsci/Text-Preprocessing-in-Python/blob/master/Text_Preprocessing_in_Python.ipynb\n",
    "\"\"\"\n",
    "\n",
    "\n",
    "\n",
    "\n",
    "\n",
    "def strPreProccess(s: str):\n",
    "    return removeStopWordsAndStemAndLemmatize(removeNonAlpha(s.strip().lower()))\n",
    "\"\"\"\n",
    "A funciton that does all the job at once\n",
    "\"\"\"\n"
   ]
  },
  {
   "cell_type": "markdown",
   "metadata": {},
   "source": [
    "# First the \"SandersPosNeg\" dataset"
   ]
  },
  {
   "cell_type": "markdown",
   "metadata": {},
   "source": [
    "## Now we read the data from the file."
   ]
  },
  {
   "cell_type": "code",
   "execution_count": 2,
   "metadata": {},
   "outputs": [
    {
     "data": {
      "text/html": [
       "<div>\n",
       "<style scoped>\n",
       "    .dataframe tbody tr th:only-of-type {\n",
       "        vertical-align: middle;\n",
       "    }\n",
       "\n",
       "    .dataframe tbody tr th {\n",
       "        vertical-align: top;\n",
       "    }\n",
       "\n",
       "    .dataframe thead th {\n",
       "        text-align: right;\n",
       "    }\n",
       "</style>\n",
       "<table border=\"1\" class=\"dataframe\">\n",
       "  <thead>\n",
       "    <tr style=\"text-align: right;\">\n",
       "      <th></th>\n",
       "      <th>0</th>\n",
       "      <th>1</th>\n",
       "    </tr>\n",
       "  </thead>\n",
       "  <tbody>\n",
       "    <tr>\n",
       "      <th>0</th>\n",
       "      <td>0</td>\n",
       "      <td>RT @cjwallace03: So apparently @apple put MB c...</td>\n",
       "    </tr>\n",
       "    <tr>\n",
       "      <th>1</th>\n",
       "      <td>0</td>\n",
       "      <td>RT @Jewelz2611 @mashable @apple iphones r 2 ex...</td>\n",
       "    </tr>\n",
       "    <tr>\n",
       "      <th>2</th>\n",
       "      <td>0</td>\n",
       "      <td>@mashable @apple iphones r 2 expensive. Most w...</td>\n",
       "    </tr>\n",
       "    <tr>\n",
       "      <th>3</th>\n",
       "      <td>0</td>\n",
       "      <td>THiS IS WHAT WiLL KiLL APPLE http://t.co/72Jw4...</td>\n",
       "    </tr>\n",
       "    <tr>\n",
       "      <th>4</th>\n",
       "      <td>4</td>\n",
       "      <td>Now all @Apple has to do is get swype on the i...</td>\n",
       "    </tr>\n",
       "    <tr>\n",
       "      <th>...</th>\n",
       "      <td>...</td>\n",
       "      <td>...</td>\n",
       "    </tr>\n",
       "    <tr>\n",
       "      <th>1219</th>\n",
       "      <td>4</td>\n",
       "      <td>RT @ahhfuckitsguss: #twitter can be so useful ...</td>\n",
       "    </tr>\n",
       "    <tr>\n",
       "      <th>1220</th>\n",
       "      <td>4</td>\n",
       "      <td>My 3 biggest obsessions: #twitter #dancemoms a...</td>\n",
       "    </tr>\n",
       "    <tr>\n",
       "      <th>1221</th>\n",
       "      <td>0</td>\n",
       "      <td>My mentions aren't showing properly ... PAY AT...</td>\n",
       "    </tr>\n",
       "    <tr>\n",
       "      <th>1222</th>\n",
       "      <td>4</td>\n",
       "      <td>#twitter is jumpin as usual :)</td>\n",
       "    </tr>\n",
       "    <tr>\n",
       "      <th>1223</th>\n",
       "      <td>4</td>\n",
       "      <td>My Facebook messed up and I had to make a new ...</td>\n",
       "    </tr>\n",
       "  </tbody>\n",
       "</table>\n",
       "<p>1224 rows × 2 columns</p>\n",
       "</div>"
      ],
      "text/plain": [
       "      0                                                  1\n",
       "0     0  RT @cjwallace03: So apparently @apple put MB c...\n",
       "1     0  RT @Jewelz2611 @mashable @apple iphones r 2 ex...\n",
       "2     0  @mashable @apple iphones r 2 expensive. Most w...\n",
       "3     0  THiS IS WHAT WiLL KiLL APPLE http://t.co/72Jw4...\n",
       "4     4  Now all @Apple has to do is get swype on the i...\n",
       "...  ..                                                ...\n",
       "1219  4  RT @ahhfuckitsguss: #twitter can be so useful ...\n",
       "1220  4  My 3 biggest obsessions: #twitter #dancemoms a...\n",
       "1221  0  My mentions aren't showing properly ... PAY AT...\n",
       "1222  4                     #twitter is jumpin as usual :)\n",
       "1223  4  My Facebook messed up and I had to make a new ...\n",
       "\n",
       "[1224 rows x 2 columns]"
      ]
     },
     "execution_count": 2,
     "metadata": {},
     "output_type": "execute_result"
    }
   ],
   "source": [
    "\n",
    "import pandas as pd\n",
    "\n",
    "data = pd.read_csv(\"./SandersPosNeg.csv\", sep='\\t', header=None) # we have no header in dataset so set header=None\n",
    "data # a preview of the dataset"
   ]
  },
  {
   "cell_type": "markdown",
   "metadata": {},
   "source": [
    "## As you see the texts need to be proccessed and get ready for training(i checked and saw it increases the accuracy about 2 to 3 percent)"
   ]
  },
  {
   "cell_type": "markdown",
   "metadata": {},
   "source": [
    "### For a better understanding of dataset we rename the columns\n",
    "#### And then apply the preprocessing to the tweet text column "
   ]
  },
  {
   "cell_type": "code",
   "execution_count": 3,
   "metadata": {},
   "outputs": [
    {
     "data": {
      "text/html": [
       "<div>\n",
       "<style scoped>\n",
       "    .dataframe tbody tr th:only-of-type {\n",
       "        vertical-align: middle;\n",
       "    }\n",
       "\n",
       "    .dataframe tbody tr th {\n",
       "        vertical-align: top;\n",
       "    }\n",
       "\n",
       "    .dataframe thead th {\n",
       "        text-align: right;\n",
       "    }\n",
       "</style>\n",
       "<table border=\"1\" class=\"dataframe\">\n",
       "  <thead>\n",
       "    <tr style=\"text-align: right;\">\n",
       "      <th></th>\n",
       "      <th>label</th>\n",
       "      <th>tweet text</th>\n",
       "    </tr>\n",
       "  </thead>\n",
       "  <tbody>\n",
       "    <tr>\n",
       "      <th>0</th>\n",
       "      <td>0</td>\n",
       "      <td>rt cjwallac appar appl put mb cap sm new updat...</td>\n",
       "    </tr>\n",
       "    <tr>\n",
       "      <th>1</th>\n",
       "      <td>0</td>\n",
       "      <td>rt jewelz mashabl appl iphon r expens went w h...</td>\n",
       "    </tr>\n",
       "    <tr>\n",
       "      <th>2</th>\n",
       "      <td>0</td>\n",
       "      <td>mashabl appl iphon r expens went w htcgalaxi c...</td>\n",
       "    </tr>\n",
       "    <tr>\n",
       "      <th>3</th>\n",
       "      <td>0</td>\n",
       "      <td>kill appl httptcojwzc rip appl</td>\n",
       "    </tr>\n",
       "    <tr>\n",
       "      <th>4</th>\n",
       "      <td>4</td>\n",
       "      <td>appl get swype iphon crack iphon</td>\n",
       "    </tr>\n",
       "    <tr>\n",
       "      <th>...</th>\n",
       "      <td>...</td>\n",
       "      <td>...</td>\n",
       "    </tr>\n",
       "    <tr>\n",
       "      <th>1219</th>\n",
       "      <td>4</td>\n",
       "      <td>rt ahhfuckitsguss twitter use let feel cant re...</td>\n",
       "    </tr>\n",
       "    <tr>\n",
       "      <th>1220</th>\n",
       "      <td>4</td>\n",
       "      <td>biggest obsess twitter dancemom desperatehouse...</td>\n",
       "    </tr>\n",
       "    <tr>\n",
       "      <th>1221</th>\n",
       "      <td>0</td>\n",
       "      <td>mention arent show properli pay attent twitter</td>\n",
       "    </tr>\n",
       "    <tr>\n",
       "      <th>1222</th>\n",
       "      <td>4</td>\n",
       "      <td>twitter jumpin usual</td>\n",
       "    </tr>\n",
       "    <tr>\n",
       "      <th>1223</th>\n",
       "      <td>4</td>\n",
       "      <td>facebook mess make new one add haha least twit...</td>\n",
       "    </tr>\n",
       "  </tbody>\n",
       "</table>\n",
       "<p>1224 rows × 2 columns</p>\n",
       "</div>"
      ],
      "text/plain": [
       "      label                                         tweet text\n",
       "0         0  rt cjwallac appar appl put mb cap sm new updat...\n",
       "1         0  rt jewelz mashabl appl iphon r expens went w h...\n",
       "2         0  mashabl appl iphon r expens went w htcgalaxi c...\n",
       "3         0                     kill appl httptcojwzc rip appl\n",
       "4         4                   appl get swype iphon crack iphon\n",
       "...     ...                                                ...\n",
       "1219      4  rt ahhfuckitsguss twitter use let feel cant re...\n",
       "1220      4  biggest obsess twitter dancemom desperatehouse...\n",
       "1221      0     mention arent show properli pay attent twitter\n",
       "1222      4                               twitter jumpin usual\n",
       "1223      4  facebook mess make new one add haha least twit...\n",
       "\n",
       "[1224 rows x 2 columns]"
      ]
     },
     "execution_count": 3,
     "metadata": {},
     "output_type": "execute_result"
    }
   ],
   "source": [
    "data.rename(columns={0: \"label\", 1: \"tweet text\"}, inplace=True)\n",
    "data['tweet text'] = data['tweet text'].apply(strPreProccess)\n",
    "data # a preview of data"
   ]
  },
  {
   "cell_type": "markdown",
   "metadata": {},
   "source": [
    "## As you can see the data is now ready to train"
   ]
  },
  {
   "cell_type": "markdown",
   "metadata": {},
   "source": [
    "### First we import some neccesary libraries"
   ]
  },
  {
   "cell_type": "code",
   "execution_count": 4,
   "metadata": {},
   "outputs": [],
   "source": [
    "from sklearn.feature_extraction.text import TfidfVectorizer\n",
    "from sklearn.model_selection import ShuffleSplit, cross_val_score\n",
    "import sklearn.naive_bayes as NB"
   ]
  },
  {
   "cell_type": "markdown",
   "metadata": {},
   "source": [
    "### now before we use a predicter we need to convert the text to numerical values to work on\n",
    "#### To do this we use Tf-idf vectorization"
   ]
  },
  {
   "cell_type": "code",
   "execution_count": 5,
   "metadata": {},
   "outputs": [],
   "source": [
    "vectorizer = tfidf_vectorizer = TfidfVectorizer()\n",
    "X = vectorizer.fit_transform(data['tweet text'])\n",
    "Y = data['label']\n",
    "\n"
   ]
  },
  {
   "cell_type": "markdown",
   "metadata": {},
   "source": [
    "### Then we create an Multinomial Naive Bayse model instance to give to the cross_val_score function so it fits the data into given model and measure our accuracy using 10-fold-cross-validation method. \n",
    "\n",
    "#### (Obviously the X will be the vectors(converted from tweet texts) \n",
    "#### and Y will be labels (0 for negative and 4 for positive))"
   ]
  },
  {
   "cell_type": "code",
   "execution_count": 6,
   "metadata": {},
   "outputs": [
    {
     "name": "stdout",
     "output_type": "stream",
     "text": [
      "NB: 84.08163265306122\n"
     ]
    }
   ],
   "source": [
    "model = NB.MultinomialNB()\n",
    "NB_result = cross_val_score(model, X, Y, cv=ShuffleSplit(10, test_size=0.2, random_state=0)).mean()\n",
    "print(f'NB: {NB_result.mean()*100}')"
   ]
  },
  {
   "cell_type": "markdown",
   "metadata": {},
   "source": [
    "# Now we do the same thing with the OMD dataset. \n",
    "### Except for some tiny details. for example we need to use \"mac_roman\" encoding.\n",
    "### Also the csv file is seperated by camma which also appeare in tweet texts so setting the sep=',' would cause a mess!\n",
    "### To handle the situation first we read the whole line in a step.(we will have one column)\n",
    "### Next step we split it by the first camma we see(it seperates the label and tweet text)\n"
   ]
  },
  {
   "cell_type": "code",
   "execution_count": 7,
   "metadata": {},
   "outputs": [
    {
     "data": {
      "text/html": [
       "<div>\n",
       "<style scoped>\n",
       "    .dataframe tbody tr th:only-of-type {\n",
       "        vertical-align: middle;\n",
       "    }\n",
       "\n",
       "    .dataframe tbody tr th {\n",
       "        vertical-align: top;\n",
       "    }\n",
       "\n",
       "    .dataframe thead th {\n",
       "        text-align: right;\n",
       "    }\n",
       "</style>\n",
       "<table border=\"1\" class=\"dataframe\">\n",
       "  <thead>\n",
       "    <tr style=\"text-align: right;\">\n",
       "      <th></th>\n",
       "      <th>label</th>\n",
       "      <th>tweet text</th>\n",
       "    </tr>\n",
       "  </thead>\n",
       "  <tbody>\n",
       "    <tr>\n",
       "      <th>0</th>\n",
       "      <td>0</td>\n",
       "      <td>,Watching by myself  #tweetdebate Not drinking...</td>\n",
       "    </tr>\n",
       "    <tr>\n",
       "      <th>1</th>\n",
       "      <td>0</td>\n",
       "      <td>,@ahg3 @MichDot Yeah, slime was actually my se...</td>\n",
       "    </tr>\n",
       "    <tr>\n",
       "      <th>2</th>\n",
       "      <td>0</td>\n",
       "      <td>,Preparing to have a heart attack #tweetdebate,</td>\n",
       "    </tr>\n",
       "    <tr>\n",
       "      <th>3</th>\n",
       "      <td>0</td>\n",
       "      <td>,no debate moderators under 50, sorry  #tweetd...</td>\n",
       "    </tr>\n",
       "    <tr>\n",
       "      <th>4</th>\n",
       "      <td>0</td>\n",
       "      <td>,@current Now staring at black screen on http:...</td>\n",
       "    </tr>\n",
       "    <tr>\n",
       "      <th>...</th>\n",
       "      <td>...</td>\n",
       "      <td>...</td>\n",
       "    </tr>\n",
       "    <tr>\n",
       "      <th>1901</th>\n",
       "      <td>4</td>\n",
       "      <td>,@Imarilove Yes, He did. I liked the eye conta...</td>\n",
       "    </tr>\n",
       "    <tr>\n",
       "      <th>1902</th>\n",
       "      <td>4</td>\n",
       "      <td>,Bloggers right; mccain won because it is his ...</td>\n",
       "    </tr>\n",
       "    <tr>\n",
       "      <th>1903</th>\n",
       "      <td>4</td>\n",
       "      <td>,Anyone trying to say John McCain is a liar, s...</td>\n",
       "    </tr>\n",
       "    <tr>\n",
       "      <th>1904</th>\n",
       "      <td>4</td>\n",
       "      <td>,CNN post debate polling is saying the debate ...</td>\n",
       "    </tr>\n",
       "    <tr>\n",
       "      <th>1905</th>\n",
       "      <td>4</td>\n",
       "      <td>,Very big Obama lead in the CNN post debate po...</td>\n",
       "    </tr>\n",
       "  </tbody>\n",
       "</table>\n",
       "<p>1906 rows × 2 columns</p>\n",
       "</div>"
      ],
      "text/plain": [
       "      label                                         tweet text\n",
       "0         0  ,Watching by myself  #tweetdebate Not drinking...\n",
       "1         0  ,@ahg3 @MichDot Yeah, slime was actually my se...\n",
       "2         0    ,Preparing to have a heart attack #tweetdebate,\n",
       "3         0  ,no debate moderators under 50, sorry  #tweetd...\n",
       "4         0  ,@current Now staring at black screen on http:...\n",
       "...     ...                                                ...\n",
       "1901      4  ,@Imarilove Yes, He did. I liked the eye conta...\n",
       "1902      4  ,Bloggers right; mccain won because it is his ...\n",
       "1903      4  ,Anyone trying to say John McCain is a liar, s...\n",
       "1904      4  ,CNN post debate polling is saying the debate ...\n",
       "1905      4  ,Very big Obama lead in the CNN post debate po...\n",
       "\n",
       "[1906 rows x 2 columns]"
      ]
     },
     "execution_count": 7,
     "metadata": {},
     "output_type": "execute_result"
    }
   ],
   "source": [
    "data = pd.read_csv(\"./OMD.csv\", header=None, sep='\\t', encoding='mac_roman')\n",
    "\n",
    "def getLabel(s: str) -> int:\n",
    "    return int(s[:s.find(',')])\n",
    "\n",
    "def getTweet(s: str) -> str:\n",
    "    return s[s.find(','):]\n",
    "\n",
    "data['label'] = data[0].apply(getLabel)\n",
    "data['tweet text'] = data[0].apply(getTweet)\n",
    "del data[0]\n",
    "data\n"
   ]
  },
  {
   "cell_type": "markdown",
   "metadata": {},
   "source": [
    "# And from now on everything is the same as SandersPosNeg dataset"
   ]
  },
  {
   "cell_type": "code",
   "execution_count": 8,
   "metadata": {},
   "outputs": [
    {
     "data": {
      "text/html": [
       "<div>\n",
       "<style scoped>\n",
       "    .dataframe tbody tr th:only-of-type {\n",
       "        vertical-align: middle;\n",
       "    }\n",
       "\n",
       "    .dataframe tbody tr th {\n",
       "        vertical-align: top;\n",
       "    }\n",
       "\n",
       "    .dataframe thead th {\n",
       "        text-align: right;\n",
       "    }\n",
       "</style>\n",
       "<table border=\"1\" class=\"dataframe\">\n",
       "  <thead>\n",
       "    <tr style=\"text-align: right;\">\n",
       "      <th></th>\n",
       "      <th>label</th>\n",
       "      <th>tweet text</th>\n",
       "    </tr>\n",
       "  </thead>\n",
       "  <tbody>\n",
       "    <tr>\n",
       "      <th>0</th>\n",
       "      <td>0</td>\n",
       "      <td>watch tweetdeb drink wait start cring mccain b...</td>\n",
       "    </tr>\n",
       "    <tr>\n",
       "      <th>1</th>\n",
       "      <td>0</td>\n",
       "      <td>ahg michdot yeah slime actual second choic can...</td>\n",
       "    </tr>\n",
       "    <tr>\n",
       "      <th>2</th>\n",
       "      <td>0</td>\n",
       "      <td>prepar heart attack tweetdeb</td>\n",
       "    </tr>\n",
       "    <tr>\n",
       "      <th>3</th>\n",
       "      <td>0</td>\n",
       "      <td>debat moder sorri tweetdeb</td>\n",
       "    </tr>\n",
       "    <tr>\n",
       "      <th>4</th>\n",
       "      <td>0</td>\n",
       "      <td>current stare black screen httpwwwcurrentcomde...</td>\n",
       "    </tr>\n",
       "    <tr>\n",
       "      <th>...</th>\n",
       "      <td>...</td>\n",
       "      <td>...</td>\n",
       "    </tr>\n",
       "    <tr>\n",
       "      <th>1901</th>\n",
       "      <td>4</td>\n",
       "      <td>imarilov ye like eye contact debat tweetdeb</td>\n",
       "    </tr>\n",
       "    <tr>\n",
       "      <th>1902</th>\n",
       "      <td>4</td>\n",
       "      <td>blogger right mccain issu debat</td>\n",
       "    </tr>\n",
       "    <tr>\n",
       "      <th>1903</th>\n",
       "      <td>4</td>\n",
       "      <td>anyon tri say john mccain liar suffer misanthr...</td>\n",
       "    </tr>\n",
       "    <tr>\n",
       "      <th>1904</th>\n",
       "      <td>4</td>\n",
       "      <td>cnn post debat poll say debat went obama point...</td>\n",
       "    </tr>\n",
       "    <tr>\n",
       "      <th>1905</th>\n",
       "      <td>4</td>\n",
       "      <td>big obama lead cnn post debat poll interest debat</td>\n",
       "    </tr>\n",
       "  </tbody>\n",
       "</table>\n",
       "<p>1906 rows × 2 columns</p>\n",
       "</div>"
      ],
      "text/plain": [
       "      label                                         tweet text\n",
       "0         0  watch tweetdeb drink wait start cring mccain b...\n",
       "1         0  ahg michdot yeah slime actual second choic can...\n",
       "2         0                       prepar heart attack tweetdeb\n",
       "3         0                         debat moder sorri tweetdeb\n",
       "4         0  current stare black screen httpwwwcurrentcomde...\n",
       "...     ...                                                ...\n",
       "1901      4        imarilov ye like eye contact debat tweetdeb\n",
       "1902      4                    blogger right mccain issu debat\n",
       "1903      4  anyon tri say john mccain liar suffer misanthr...\n",
       "1904      4  cnn post debat poll say debat went obama point...\n",
       "1905      4  big obama lead cnn post debat poll interest debat\n",
       "\n",
       "[1906 rows x 2 columns]"
      ]
     },
     "execution_count": 8,
     "metadata": {},
     "output_type": "execute_result"
    }
   ],
   "source": [
    "data[\"tweet text\"] = data['tweet text'].apply(strPreProccess)\n",
    "data"
   ]
  },
  {
   "cell_type": "markdown",
   "metadata": {},
   "source": [
    "## One tiny point! we set the alpha parameter here in our MultinomialNB to 0.49 so it gives us about 2 percent more accuracy!"
   ]
  },
  {
   "cell_type": "code",
   "execution_count": 9,
   "metadata": {},
   "outputs": [
    {
     "name": "stdout",
     "output_type": "stream",
     "text": [
      "NB: 75.81151832460733\n"
     ]
    }
   ],
   "source": [
    "vectorizer = tfidf_vectorizer = TfidfVectorizer()\n",
    "X = vectorizer.fit_transform(data['tweet text'])\n",
    "Y = data['label']\n",
    "\n",
    "model = NB.MultinomialNB(alpha=0.49)\n",
    "NB_result = cross_val_score(model, X, Y, cv=ShuffleSplit(10, test_size=0.2, random_state=0)).mean()\n",
    "print(f'NB: {NB_result.mean()*100}')\n"
   ]
  },
  {
   "cell_type": "code",
   "execution_count": 10,
   "metadata": {},
   "outputs": [
    {
     "data": {
      "text/plain": [
       "79.9"
      ]
     },
     "execution_count": 10,
     "metadata": {},
     "output_type": "execute_result"
    }
   ],
   "source": [
    "(84+75.8)/2\n"
   ]
  }
 ],
 "metadata": {
  "interpreter": {
   "hash": "916dbcbb3f70747c44a77c7bcd40155683ae19c65e1c03b4aa3499c5328201f1"
  },
  "kernelspec": {
   "display_name": "Python 3.8.10 64-bit",
   "language": "python",
   "name": "python3"
  },
  "language_info": {
   "codemirror_mode": {
    "name": "ipython",
    "version": 3
   },
   "file_extension": ".py",
   "mimetype": "text/x-python",
   "name": "python",
   "nbconvert_exporter": "python",
   "pygments_lexer": "ipython3",
   "version": "3.8.10"
  },
  "orig_nbformat": 4
 },
 "nbformat": 4,
 "nbformat_minor": 2
}
