{
 "cells": [
  {
   "cell_type": "markdown",
   "metadata": {},
   "source": [
    "# First we import pandas to read the data set\n",
    "## Then we define some constants that will be our column names later"
   ]
  },
  {
   "cell_type": "code",
   "execution_count": 1,
   "metadata": {},
   "outputs": [],
   "source": [
    "import pandas as pd\n",
    "TOKEN = 'token'\n",
    "POS_TAG = 'pos_tag'\n",
    "EZAFE_TAG = 'ezafe_tag'\n",
    "NEXT_TOKEN_POS = 'next_token_pos'\n",
    "PREV_TOKE_POS = 'prev_token_pos'\n",
    "LAST_LETTER = 'last_letter'\n",
    "TOKEN_LENGTH = 'token_length'\n",
    "IS_VERB = 'is_verb'\n",
    "HAS_AA_BAKOLAAH ='has_aa_baakolaah'\n",
    "HAS_AA_BIKOLAAH = 'has_aa_bikolaah'\n",
    "HAS_TARIN = 'has_tarin'\n",
    "HAS_TAR = 'has_tar'\n",
    "HAS_VAAV = 'has_vaav'\n",
    "HAS_HE = 'has_he'"
   ]
  },
  {
   "cell_type": "markdown",
   "metadata": {},
   "source": [
    "## Now we read the data. And it also has header\n",
    "### Since we didn't set 'header=None' pd won't be recognized as a pd.DataFrame so we declare it as a pd.DataFrame(just for syntax highlighting and suggestions)\n",
    "### Pay attention that there's an extra useless column(named 'Unnamed: 0') so we drop it\n",
    "### Then we get a first preview of our raw data"
   ]
  },
  {
   "cell_type": "code",
   "execution_count": 2,
   "metadata": {},
   "outputs": [
    {
     "data": {
      "text/html": [
       "<div>\n",
       "<style scoped>\n",
       "    .dataframe tbody tr th:only-of-type {\n",
       "        vertical-align: middle;\n",
       "    }\n",
       "\n",
       "    .dataframe tbody tr th {\n",
       "        vertical-align: top;\n",
       "    }\n",
       "\n",
       "    .dataframe thead th {\n",
       "        text-align: right;\n",
       "    }\n",
       "</style>\n",
       "<table border=\"1\" class=\"dataframe\">\n",
       "  <thead>\n",
       "    <tr style=\"text-align: right;\">\n",
       "      <th></th>\n",
       "      <th>token</th>\n",
       "      <th>pos_tag</th>\n",
       "      <th>ezafe_tag</th>\n",
       "    </tr>\n",
       "  </thead>\n",
       "  <tbody>\n",
       "    <tr>\n",
       "      <th>0</th>\n",
       "      <td>!هنری!</td>\n",
       "      <td>SUBJ</td>\n",
       "      <td>0</td>\n",
       "    </tr>\n",
       "    <tr>\n",
       "      <th>1</th>\n",
       "      <td>#</td>\n",
       "      <td>DELM</td>\n",
       "      <td>0</td>\n",
       "    </tr>\n",
       "    <tr>\n",
       "      <th>2</th>\n",
       "      <td>مسعود</td>\n",
       "      <td>N_SING_PR</td>\n",
       "      <td>1</td>\n",
       "    </tr>\n",
       "    <tr>\n",
       "      <th>3</th>\n",
       "      <td>شجاعی</td>\n",
       "      <td>N_SING_PR</td>\n",
       "      <td>1</td>\n",
       "    </tr>\n",
       "    <tr>\n",
       "      <th>4</th>\n",
       "      <td>طباطبایی</td>\n",
       "      <td>N_SING_PR</td>\n",
       "      <td>0</td>\n",
       "    </tr>\n",
       "    <tr>\n",
       "      <th>5</th>\n",
       "      <td>#</td>\n",
       "      <td>DELM</td>\n",
       "      <td>0</td>\n",
       "    </tr>\n",
       "    <tr>\n",
       "      <th>6</th>\n",
       "      <td>دنیای</td>\n",
       "      <td>N_SING_COM</td>\n",
       "      <td>1</td>\n",
       "    </tr>\n",
       "    <tr>\n",
       "      <th>7</th>\n",
       "      <td>آدولف</td>\n",
       "      <td>N_SING_PR</td>\n",
       "      <td>0</td>\n",
       "    </tr>\n",
       "    <tr>\n",
       "      <th>8</th>\n",
       "      <td>بورن</td>\n",
       "      <td>N_SING_PR</td>\n",
       "      <td>0</td>\n",
       "    </tr>\n",
       "    <tr>\n",
       "      <th>9</th>\n",
       "      <td>دنیای</td>\n",
       "      <td>N_SING_COM</td>\n",
       "      <td>1</td>\n",
       "    </tr>\n",
       "    <tr>\n",
       "      <th>10</th>\n",
       "      <td>اتفاقات</td>\n",
       "      <td>N_PL_COM</td>\n",
       "      <td>1</td>\n",
       "    </tr>\n",
       "    <tr>\n",
       "      <th>11</th>\n",
       "      <td>رویایی</td>\n",
       "      <td>ADJ_SIM</td>\n",
       "      <td>0</td>\n",
       "    </tr>\n",
       "    <tr>\n",
       "      <th>12</th>\n",
       "      <td>است</td>\n",
       "      <td>V_PRE_SIM</td>\n",
       "      <td>0</td>\n",
       "    </tr>\n",
       "    <tr>\n",
       "      <th>13</th>\n",
       "      <td>.</td>\n",
       "      <td>DELM</td>\n",
       "      <td>0</td>\n",
       "    </tr>\n",
       "    <tr>\n",
       "      <th>14</th>\n",
       "      <td>برای</td>\n",
       "      <td>P_GENR</td>\n",
       "      <td>1</td>\n",
       "    </tr>\n",
       "    <tr>\n",
       "      <th>15</th>\n",
       "      <td>این</td>\n",
       "      <td>PRO_DEF_NR_NIS</td>\n",
       "      <td>0</td>\n",
       "    </tr>\n",
       "    <tr>\n",
       "      <th>16</th>\n",
       "      <td>که</td>\n",
       "      <td>CON_RELC</td>\n",
       "      <td>0</td>\n",
       "    </tr>\n",
       "    <tr>\n",
       "      <th>17</th>\n",
       "      <td>بتوانیم</td>\n",
       "      <td>V_SUB_POS_4</td>\n",
       "      <td>0</td>\n",
       "    </tr>\n",
       "    <tr>\n",
       "      <th>18</th>\n",
       "      <td>آثار</td>\n",
       "      <td>N_PL_COM</td>\n",
       "      <td>1</td>\n",
       "    </tr>\n",
       "    <tr>\n",
       "      <th>19</th>\n",
       "      <td>زیبای</td>\n",
       "      <td>ADJ_SIM</td>\n",
       "      <td>1</td>\n",
       "    </tr>\n",
       "  </tbody>\n",
       "</table>\n",
       "</div>"
      ],
      "text/plain": [
       "       token         pos_tag  ezafe_tag\n",
       "0     !هنری!            SUBJ          0\n",
       "1          #            DELM          0\n",
       "2      مسعود       N_SING_PR          1\n",
       "3      شجاعی       N_SING_PR          1\n",
       "4   طباطبایی       N_SING_PR          0\n",
       "5          #            DELM          0\n",
       "6      دنیای      N_SING_COM          1\n",
       "7      آدولف       N_SING_PR          0\n",
       "8       بورن       N_SING_PR          0\n",
       "9      دنیای      N_SING_COM          1\n",
       "10   اتفاقات        N_PL_COM          1\n",
       "11    رویایی         ADJ_SIM          0\n",
       "12       است       V_PRE_SIM          0\n",
       "13         .            DELM          0\n",
       "14      برای          P_GENR          1\n",
       "15       این  PRO_DEF_NR_NIS          0\n",
       "16        که        CON_RELC          0\n",
       "17   بتوانیم     V_SUB_POS_4          0\n",
       "18      آثار        N_PL_COM          1\n",
       "19     زیبای         ADJ_SIM          1"
      ]
     },
     "execution_count": 2,
     "metadata": {},
     "output_type": "execute_result"
    }
   ],
   "source": [
    "df = pd.read_csv(\"./dataset/updated_bijankhan_corpus.csv\")\n",
    "df: pd.DataFrame\n",
    "\n",
    "del df['Unnamed: 0']\n",
    "df.head(20)"
   ]
  },
  {
   "cell_type": "markdown",
   "metadata": {},
   "source": [
    "## As you can see we have sentences coming after together having their words in each row. And there is a delimiter between each sentence as well."
   ]
  },
  {
   "cell_type": "markdown",
   "metadata": {},
   "source": [
    "## Now lets take a look at each column details"
   ]
  },
  {
   "cell_type": "code",
   "execution_count": 3,
   "metadata": {},
   "outputs": [
    {
     "data": {
      "text/plain": [
       "و            120557\n",
       "،             94691\n",
       "در            85716\n",
       ".             84003\n",
       "به            68966\n",
       "              ...  \n",
       "پونتوس            1\n",
       "آترخان‌اف         1\n",
       "المشهور           1\n",
       "آزگار             1\n",
       "متقبل             1\n",
       "Name: token, Length: 76799, dtype: int64"
      ]
     },
     "execution_count": 3,
     "metadata": {},
     "output_type": "execute_result"
    }
   ],
   "source": [
    "df[TOKEN].value_counts()"
   ]
  },
  {
   "cell_type": "code",
   "execution_count": 4,
   "metadata": {},
   "outputs": [
    {
     "data": {
      "text/plain": [
       "N_SING_COM          636812\n",
       "P_GENR              281880\n",
       "DELM                256489\n",
       "ADJ_SIM             220353\n",
       "N_PL_COM            139962\n",
       "                     ...  \n",
       "V_PA_SIM_POS_3_1         1\n",
       "V_PA_NAR_PCAU_4          1\n",
       "302317824                1\n",
       "N_SING_PR_PAFF_1         1\n",
       "V_SUB_POS_2_3            1\n",
       "Name: pos_tag, Length: 482, dtype: int64"
      ]
     },
     "execution_count": 4,
     "metadata": {},
     "output_type": "execute_result"
    }
   ],
   "source": [
    "df[POS_TAG].value_counts()"
   ]
  },
  {
   "cell_type": "markdown",
   "metadata": {},
   "source": [
    "### Note that we hav 482 defferent types of pos_tags so probably this can be our best feature!"
   ]
  },
  {
   "cell_type": "markdown",
   "metadata": {},
   "source": [
    "# Here we define some functions to analyze last letters of words in 'token' columns"
   ]
  },
  {
   "cell_type": "code",
   "execution_count": 5,
   "metadata": {},
   "outputs": [],
   "source": [
    "def hasSuffixABaKolaah(s: str) -> bool:\n",
    "    return s.endswith('آ')\n",
    "def hasSuffixABiKolaah(s: str) -> bool:\n",
    "    return s.endswith('ا')\n",
    "def hasSuffixTarin(s: str) -> bool:\n",
    "    return s.endswith('ترین')\n",
    "def hasSuffixTar(s: str) -> bool:\n",
    "    return s.endswith('تر')\n",
    "def hasSuffixVaav(s: str) -> bool:\n",
    "    return s.endswith('و')\n",
    "def hasSuffixHe(s: str) -> bool:\n",
    "    return s.endswith('ه')\n"
   ]
  },
  {
   "cell_type": "markdown",
   "metadata": {},
   "source": [
    "## For each special suffix we add a new boolean column where it will be True IFF the token in that row has the corresponding suffix\n",
    "### Let's look at the data again "
   ]
  },
  {
   "cell_type": "code",
   "execution_count": 6,
   "metadata": {},
   "outputs": [
    {
     "data": {
      "text/html": [
       "<div>\n",
       "<style scoped>\n",
       "    .dataframe tbody tr th:only-of-type {\n",
       "        vertical-align: middle;\n",
       "    }\n",
       "\n",
       "    .dataframe tbody tr th {\n",
       "        vertical-align: top;\n",
       "    }\n",
       "\n",
       "    .dataframe thead th {\n",
       "        text-align: right;\n",
       "    }\n",
       "</style>\n",
       "<table border=\"1\" class=\"dataframe\">\n",
       "  <thead>\n",
       "    <tr style=\"text-align: right;\">\n",
       "      <th></th>\n",
       "      <th>token</th>\n",
       "      <th>pos_tag</th>\n",
       "      <th>ezafe_tag</th>\n",
       "      <th>has_aa_baakolaah</th>\n",
       "      <th>has_aa_bikolaah</th>\n",
       "      <th>has_tarin</th>\n",
       "      <th>has_tar</th>\n",
       "      <th>has_vaav</th>\n",
       "      <th>has_he</th>\n",
       "    </tr>\n",
       "  </thead>\n",
       "  <tbody>\n",
       "    <tr>\n",
       "      <th>0</th>\n",
       "      <td>!هنری!</td>\n",
       "      <td>SUBJ</td>\n",
       "      <td>0</td>\n",
       "      <td>False</td>\n",
       "      <td>False</td>\n",
       "      <td>False</td>\n",
       "      <td>False</td>\n",
       "      <td>False</td>\n",
       "      <td>False</td>\n",
       "    </tr>\n",
       "    <tr>\n",
       "      <th>1</th>\n",
       "      <td>#</td>\n",
       "      <td>DELM</td>\n",
       "      <td>0</td>\n",
       "      <td>False</td>\n",
       "      <td>False</td>\n",
       "      <td>False</td>\n",
       "      <td>False</td>\n",
       "      <td>False</td>\n",
       "      <td>False</td>\n",
       "    </tr>\n",
       "    <tr>\n",
       "      <th>2</th>\n",
       "      <td>مسعود</td>\n",
       "      <td>N_SING_PR</td>\n",
       "      <td>1</td>\n",
       "      <td>False</td>\n",
       "      <td>False</td>\n",
       "      <td>False</td>\n",
       "      <td>False</td>\n",
       "      <td>False</td>\n",
       "      <td>False</td>\n",
       "    </tr>\n",
       "    <tr>\n",
       "      <th>3</th>\n",
       "      <td>شجاعی</td>\n",
       "      <td>N_SING_PR</td>\n",
       "      <td>1</td>\n",
       "      <td>False</td>\n",
       "      <td>False</td>\n",
       "      <td>False</td>\n",
       "      <td>False</td>\n",
       "      <td>False</td>\n",
       "      <td>False</td>\n",
       "    </tr>\n",
       "    <tr>\n",
       "      <th>4</th>\n",
       "      <td>طباطبایی</td>\n",
       "      <td>N_SING_PR</td>\n",
       "      <td>0</td>\n",
       "      <td>False</td>\n",
       "      <td>False</td>\n",
       "      <td>False</td>\n",
       "      <td>False</td>\n",
       "      <td>False</td>\n",
       "      <td>False</td>\n",
       "    </tr>\n",
       "    <tr>\n",
       "      <th>...</th>\n",
       "      <td>...</td>\n",
       "      <td>...</td>\n",
       "      <td>...</td>\n",
       "      <td>...</td>\n",
       "      <td>...</td>\n",
       "      <td>...</td>\n",
       "      <td>...</td>\n",
       "      <td>...</td>\n",
       "      <td>...</td>\n",
       "    </tr>\n",
       "    <tr>\n",
       "      <th>2602531</th>\n",
       "      <td>مصنوعی</td>\n",
       "      <td>ADJ_SIM</td>\n",
       "      <td>0</td>\n",
       "      <td>False</td>\n",
       "      <td>False</td>\n",
       "      <td>False</td>\n",
       "      <td>False</td>\n",
       "      <td>False</td>\n",
       "      <td>False</td>\n",
       "    </tr>\n",
       "    <tr>\n",
       "      <th>2602532</th>\n",
       "      <td>ایجاد</td>\n",
       "      <td>N_SING_COM</td>\n",
       "      <td>0</td>\n",
       "      <td>False</td>\n",
       "      <td>False</td>\n",
       "      <td>False</td>\n",
       "      <td>False</td>\n",
       "      <td>False</td>\n",
       "      <td>False</td>\n",
       "    </tr>\n",
       "    <tr>\n",
       "      <th>2602533</th>\n",
       "      <td>شده</td>\n",
       "      <td>ADJ_INO</td>\n",
       "      <td>0</td>\n",
       "      <td>False</td>\n",
       "      <td>False</td>\n",
       "      <td>False</td>\n",
       "      <td>False</td>\n",
       "      <td>False</td>\n",
       "      <td>True</td>\n",
       "    </tr>\n",
       "    <tr>\n",
       "      <th>2602534</th>\n",
       "      <td>است</td>\n",
       "      <td>V_PRE_SIM</td>\n",
       "      <td>0</td>\n",
       "      <td>False</td>\n",
       "      <td>False</td>\n",
       "      <td>False</td>\n",
       "      <td>False</td>\n",
       "      <td>False</td>\n",
       "      <td>False</td>\n",
       "    </tr>\n",
       "    <tr>\n",
       "      <th>2602535</th>\n",
       "      <td>.</td>\n",
       "      <td>DELM</td>\n",
       "      <td>0</td>\n",
       "      <td>False</td>\n",
       "      <td>False</td>\n",
       "      <td>False</td>\n",
       "      <td>False</td>\n",
       "      <td>False</td>\n",
       "      <td>False</td>\n",
       "    </tr>\n",
       "  </tbody>\n",
       "</table>\n",
       "<p>2602536 rows × 9 columns</p>\n",
       "</div>"
      ],
      "text/plain": [
       "            token     pos_tag  ezafe_tag  has_aa_baakolaah  has_aa_bikolaah  \\\n",
       "0          !هنری!        SUBJ          0             False            False   \n",
       "1               #        DELM          0             False            False   \n",
       "2           مسعود   N_SING_PR          1             False            False   \n",
       "3           شجاعی   N_SING_PR          1             False            False   \n",
       "4        طباطبایی   N_SING_PR          0             False            False   \n",
       "...           ...         ...        ...               ...              ...   \n",
       "2602531    مصنوعی     ADJ_SIM          0             False            False   \n",
       "2602532     ایجاد  N_SING_COM          0             False            False   \n",
       "2602533       شده     ADJ_INO          0             False            False   \n",
       "2602534       است   V_PRE_SIM          0             False            False   \n",
       "2602535         .        DELM          0             False            False   \n",
       "\n",
       "         has_tarin  has_tar  has_vaav  has_he  \n",
       "0            False    False     False   False  \n",
       "1            False    False     False   False  \n",
       "2            False    False     False   False  \n",
       "3            False    False     False   False  \n",
       "4            False    False     False   False  \n",
       "...            ...      ...       ...     ...  \n",
       "2602531      False    False     False   False  \n",
       "2602532      False    False     False   False  \n",
       "2602533      False    False     False    True  \n",
       "2602534      False    False     False   False  \n",
       "2602535      False    False     False   False  \n",
       "\n",
       "[2602536 rows x 9 columns]"
      ]
     },
     "execution_count": 6,
     "metadata": {},
     "output_type": "execute_result"
    }
   ],
   "source": [
    "df[HAS_AA_BAKOLAAH] = df[TOKEN].apply(hasSuffixABaKolaah)\n",
    "df[HAS_AA_BIKOLAAH] = df[TOKEN].apply(hasSuffixABiKolaah)\n",
    "df[HAS_TARIN] = df[TOKEN].apply(hasSuffixTarin)\n",
    "df[HAS_TAR] = df[TOKEN].apply(hasSuffixTar)\n",
    "df[HAS_VAAV] = df[TOKEN].apply(hasSuffixVaav)\n",
    "df[HAS_HE] = df[TOKEN].apply(hasSuffixHe)\n",
    "df"
   ]
  },
  {
   "cell_type": "markdown",
   "metadata": {},
   "source": [
    "# Here we're making sure that some rules are respected"
   ]
  },
  {
   "cell_type": "markdown",
   "metadata": {},
   "source": [
    "### first check how many of the rows in which the token has آ doesn't have EZAFE"
   ]
  },
  {
   "cell_type": "code",
   "execution_count": 7,
   "metadata": {},
   "outputs": [
    {
     "data": {
      "text/plain": [
       "0    65\n",
       "1     5\n",
       "Name: ezafe_tag, dtype: int64"
      ]
     },
     "execution_count": 7,
     "metadata": {},
     "output_type": "execute_result"
    },
    {
     "data": {
      "image/png": "[encoded data removed]",
      "text/plain": [
       "<Figure size 432x288 with 1 Axes>"
      ]
     },
     "metadata": {
      "needs_background": "light"
     },
     "output_type": "display_data"
    }
   ],
   "source": [
    "df[df[HAS_AA_BAKOLAAH]][EZAFE_TAG].hist()\n",
    "df[df[HAS_AA_BAKOLAAH]][EZAFE_TAG].value_counts()"
   ]
  },
  {
   "cell_type": "markdown",
   "metadata": {},
   "source": [
    "### Suprisingly there is 5! let's see what cases we have"
   ]
  },
  {
   "cell_type": "code",
   "execution_count": 8,
   "metadata": {},
   "outputs": [
    {
     "data": {
      "text/html": [
       "<div>\n",
       "<style scoped>\n",
       "    .dataframe tbody tr th:only-of-type {\n",
       "        vertical-align: middle;\n",
       "    }\n",
       "\n",
       "    .dataframe tbody tr th {\n",
       "        vertical-align: top;\n",
       "    }\n",
       "\n",
       "    .dataframe thead th {\n",
       "        text-align: right;\n",
       "    }\n",
       "</style>\n",
       "<table border=\"1\" class=\"dataframe\">\n",
       "  <thead>\n",
       "    <tr style=\"text-align: right;\">\n",
       "      <th></th>\n",
       "      <th>token</th>\n",
       "      <th>pos_tag</th>\n",
       "      <th>ezafe_tag</th>\n",
       "      <th>has_aa_baakolaah</th>\n",
       "      <th>has_aa_bikolaah</th>\n",
       "      <th>has_tarin</th>\n",
       "      <th>has_tar</th>\n",
       "      <th>has_vaav</th>\n",
       "      <th>has_he</th>\n",
       "    </tr>\n",
       "  </thead>\n",
       "  <tbody>\n",
       "    <tr>\n",
       "      <th>784073</th>\n",
       "      <td>کونگ‌فوتوآ</td>\n",
       "      <td>N_SING_COM</td>\n",
       "      <td>1</td>\n",
       "      <td>True</td>\n",
       "      <td>False</td>\n",
       "      <td>False</td>\n",
       "      <td>False</td>\n",
       "      <td>False</td>\n",
       "      <td>False</td>\n",
       "    </tr>\n",
       "    <tr>\n",
       "      <th>1379592</th>\n",
       "      <td>آ</td>\n",
       "      <td>N_SING_NPR</td>\n",
       "      <td>1</td>\n",
       "      <td>True</td>\n",
       "      <td>False</td>\n",
       "      <td>False</td>\n",
       "      <td>False</td>\n",
       "      <td>False</td>\n",
       "      <td>False</td>\n",
       "    </tr>\n",
       "    <tr>\n",
       "      <th>1797232</th>\n",
       "      <td>وه‌آ</td>\n",
       "      <td>N_SING_PR</td>\n",
       "      <td>1</td>\n",
       "      <td>True</td>\n",
       "      <td>False</td>\n",
       "      <td>False</td>\n",
       "      <td>False</td>\n",
       "      <td>False</td>\n",
       "      <td>False</td>\n",
       "    </tr>\n",
       "    <tr>\n",
       "      <th>2517467</th>\n",
       "      <td>دی‌ان‌آ</td>\n",
       "      <td>N_SING_NPR</td>\n",
       "      <td>1</td>\n",
       "      <td>True</td>\n",
       "      <td>False</td>\n",
       "      <td>False</td>\n",
       "      <td>False</td>\n",
       "      <td>False</td>\n",
       "      <td>False</td>\n",
       "    </tr>\n",
       "    <tr>\n",
       "      <th>2573905</th>\n",
       "      <td>دی‌ان‌آ</td>\n",
       "      <td>N_SING_NPR</td>\n",
       "      <td>1</td>\n",
       "      <td>True</td>\n",
       "      <td>False</td>\n",
       "      <td>False</td>\n",
       "      <td>False</td>\n",
       "      <td>False</td>\n",
       "      <td>False</td>\n",
       "    </tr>\n",
       "  </tbody>\n",
       "</table>\n",
       "</div>"
      ],
      "text/plain": [
       "              token     pos_tag  ezafe_tag  has_aa_baakolaah  has_aa_bikolaah  \\\n",
       "784073   کونگ‌فوتوآ  N_SING_COM          1              True            False   \n",
       "1379592           آ  N_SING_NPR          1              True            False   \n",
       "1797232        وه‌آ   N_SING_PR          1              True            False   \n",
       "2517467     دی‌ان‌آ  N_SING_NPR          1              True            False   \n",
       "2573905     دی‌ان‌آ  N_SING_NPR          1              True            False   \n",
       "\n",
       "         has_tarin  has_tar  has_vaav  has_he  \n",
       "784073       False    False     False   False  \n",
       "1379592      False    False     False   False  \n",
       "1797232      False    False     False   False  \n",
       "2517467      False    False     False   False  \n",
       "2573905      False    False     False   False  "
      ]
     },
     "execution_count": 8,
     "metadata": {},
     "output_type": "execute_result"
    }
   ],
   "source": [
    "df[(df[HAS_AA_BAKOLAAH]) & df[EZAFE_TAG]].head(20)"
   ]
  },
  {
   "cell_type": "markdown",
   "metadata": {},
   "source": [
    "#### although 5 is not a big number to affect the model. But it would be better if they had 'ی' at the end"
   ]
  },
  {
   "cell_type": "markdown",
   "metadata": {},
   "source": [
    "### Let's look at 'ا':\n",
    "#### here we have more! 378 cases!"
   ]
  },
  {
   "cell_type": "code",
   "execution_count": 9,
   "metadata": {},
   "outputs": [
    {
     "data": {
      "text/plain": [
       "0    143717\n",
       "1       378\n",
       "Name: ezafe_tag, dtype: int64"
      ]
     },
     "execution_count": 9,
     "metadata": {},
     "output_type": "execute_result"
    },
    {
     "data": {
      "image/png": "[encoded data removed]",
      "text/plain": [
       "<Figure size 432x288 with 1 Axes>"
      ]
     },
     "metadata": {
      "needs_background": "light"
     },
     "output_type": "display_data"
    }
   ],
   "source": [
    "df[(df[HAS_AA_BIKOLAAH])][EZAFE_TAG].hist()\n",
    "df[(df[HAS_AA_BIKOLAAH])][EZAFE_TAG].value_counts()"
   ]
  },
  {
   "cell_type": "markdown",
   "metadata": {},
   "source": [
    "### Let's look at the exact cases"
   ]
  },
  {
   "cell_type": "code",
   "execution_count": 10,
   "metadata": {},
   "outputs": [
    {
     "data": {
      "text/html": [
       "<div>\n",
       "<style scoped>\n",
       "    .dataframe tbody tr th:only-of-type {\n",
       "        vertical-align: middle;\n",
       "    }\n",
       "\n",
       "    .dataframe tbody tr th {\n",
       "        vertical-align: top;\n",
       "    }\n",
       "\n",
       "    .dataframe thead th {\n",
       "        text-align: right;\n",
       "    }\n",
       "</style>\n",
       "<table border=\"1\" class=\"dataframe\">\n",
       "  <thead>\n",
       "    <tr style=\"text-align: right;\">\n",
       "      <th></th>\n",
       "      <th>token</th>\n",
       "      <th>pos_tag</th>\n",
       "      <th>ezafe_tag</th>\n",
       "      <th>has_aa_baakolaah</th>\n",
       "      <th>has_aa_bikolaah</th>\n",
       "      <th>has_tarin</th>\n",
       "      <th>has_tar</th>\n",
       "      <th>has_vaav</th>\n",
       "      <th>has_he</th>\n",
       "    </tr>\n",
       "  </thead>\n",
       "  <tbody>\n",
       "    <tr>\n",
       "      <th>703</th>\n",
       "      <td>قبلا</td>\n",
       "      <td>ADV_TIM</td>\n",
       "      <td>1</td>\n",
       "      <td>False</td>\n",
       "      <td>True</td>\n",
       "      <td>False</td>\n",
       "      <td>False</td>\n",
       "      <td>False</td>\n",
       "      <td>False</td>\n",
       "    </tr>\n",
       "    <tr>\n",
       "      <th>5394</th>\n",
       "      <td>تنها</td>\n",
       "      <td>ADV_NI_NQ_SIM</td>\n",
       "      <td>1</td>\n",
       "      <td>False</td>\n",
       "      <td>True</td>\n",
       "      <td>False</td>\n",
       "      <td>False</td>\n",
       "      <td>False</td>\n",
       "      <td>False</td>\n",
       "    </tr>\n",
       "    <tr>\n",
       "      <th>15798</th>\n",
       "      <td>گزها</td>\n",
       "      <td>N_PL_COM</td>\n",
       "      <td>1</td>\n",
       "      <td>False</td>\n",
       "      <td>True</td>\n",
       "      <td>False</td>\n",
       "      <td>False</td>\n",
       "      <td>False</td>\n",
       "      <td>False</td>\n",
       "    </tr>\n",
       "    <tr>\n",
       "      <th>43871</th>\n",
       "      <td>مبدا</td>\n",
       "      <td>N_SING_COM</td>\n",
       "      <td>1</td>\n",
       "      <td>False</td>\n",
       "      <td>True</td>\n",
       "      <td>False</td>\n",
       "      <td>False</td>\n",
       "      <td>False</td>\n",
       "      <td>False</td>\n",
       "    </tr>\n",
       "    <tr>\n",
       "      <th>83633</th>\n",
       "      <td>منشا</td>\n",
       "      <td>N_SING_COM</td>\n",
       "      <td>1</td>\n",
       "      <td>False</td>\n",
       "      <td>True</td>\n",
       "      <td>False</td>\n",
       "      <td>False</td>\n",
       "      <td>False</td>\n",
       "      <td>False</td>\n",
       "    </tr>\n",
       "    <tr>\n",
       "      <th>85493</th>\n",
       "      <td>سریال‌ها</td>\n",
       "      <td>N_PL_COM</td>\n",
       "      <td>1</td>\n",
       "      <td>False</td>\n",
       "      <td>True</td>\n",
       "      <td>False</td>\n",
       "      <td>False</td>\n",
       "      <td>False</td>\n",
       "      <td>False</td>\n",
       "    </tr>\n",
       "    <tr>\n",
       "      <th>88756</th>\n",
       "      <td>جزا</td>\n",
       "      <td>N_SING_COM</td>\n",
       "      <td>1</td>\n",
       "      <td>False</td>\n",
       "      <td>True</td>\n",
       "      <td>False</td>\n",
       "      <td>False</td>\n",
       "      <td>False</td>\n",
       "      <td>False</td>\n",
       "    </tr>\n",
       "    <tr>\n",
       "      <th>101447</th>\n",
       "      <td>جزا</td>\n",
       "      <td>N_SING_COM</td>\n",
       "      <td>1</td>\n",
       "      <td>False</td>\n",
       "      <td>True</td>\n",
       "      <td>False</td>\n",
       "      <td>False</td>\n",
       "      <td>False</td>\n",
       "      <td>False</td>\n",
       "    </tr>\n",
       "    <tr>\n",
       "      <th>103866</th>\n",
       "      <td>پیچ‌و‌خمها</td>\n",
       "      <td>N_PL_COM</td>\n",
       "      <td>1</td>\n",
       "      <td>False</td>\n",
       "      <td>True</td>\n",
       "      <td>False</td>\n",
       "      <td>False</td>\n",
       "      <td>False</td>\n",
       "      <td>False</td>\n",
       "    </tr>\n",
       "    <tr>\n",
       "      <th>104944</th>\n",
       "      <td>خلا</td>\n",
       "      <td>N_SING_COM</td>\n",
       "      <td>1</td>\n",
       "      <td>False</td>\n",
       "      <td>True</td>\n",
       "      <td>False</td>\n",
       "      <td>False</td>\n",
       "      <td>False</td>\n",
       "      <td>False</td>\n",
       "    </tr>\n",
       "    <tr>\n",
       "      <th>107983</th>\n",
       "      <td>خلا</td>\n",
       "      <td>N_SING_COM</td>\n",
       "      <td>1</td>\n",
       "      <td>False</td>\n",
       "      <td>True</td>\n",
       "      <td>False</td>\n",
       "      <td>False</td>\n",
       "      <td>False</td>\n",
       "      <td>False</td>\n",
       "    </tr>\n",
       "    <tr>\n",
       "      <th>114395</th>\n",
       "      <td>جزا</td>\n",
       "      <td>N_SING_COM</td>\n",
       "      <td>1</td>\n",
       "      <td>False</td>\n",
       "      <td>True</td>\n",
       "      <td>False</td>\n",
       "      <td>False</td>\n",
       "      <td>False</td>\n",
       "      <td>False</td>\n",
       "    </tr>\n",
       "    <tr>\n",
       "      <th>121578</th>\n",
       "      <td>اوبسالا</td>\n",
       "      <td>N_SING_LOC_PR</td>\n",
       "      <td>1</td>\n",
       "      <td>False</td>\n",
       "      <td>True</td>\n",
       "      <td>False</td>\n",
       "      <td>False</td>\n",
       "      <td>False</td>\n",
       "      <td>False</td>\n",
       "    </tr>\n",
       "    <tr>\n",
       "      <th>159758</th>\n",
       "      <td>جزا</td>\n",
       "      <td>N_SING_COM</td>\n",
       "      <td>1</td>\n",
       "      <td>False</td>\n",
       "      <td>True</td>\n",
       "      <td>False</td>\n",
       "      <td>False</td>\n",
       "      <td>False</td>\n",
       "      <td>False</td>\n",
       "    </tr>\n",
       "    <tr>\n",
       "      <th>163811</th>\n",
       "      <td>جزا</td>\n",
       "      <td>N_SING_COM</td>\n",
       "      <td>1</td>\n",
       "      <td>False</td>\n",
       "      <td>True</td>\n",
       "      <td>False</td>\n",
       "      <td>False</td>\n",
       "      <td>False</td>\n",
       "      <td>False</td>\n",
       "    </tr>\n",
       "    <tr>\n",
       "      <th>168634</th>\n",
       "      <td>جزا</td>\n",
       "      <td>N_SING_COM</td>\n",
       "      <td>1</td>\n",
       "      <td>False</td>\n",
       "      <td>True</td>\n",
       "      <td>False</td>\n",
       "      <td>False</td>\n",
       "      <td>False</td>\n",
       "      <td>False</td>\n",
       "    </tr>\n",
       "    <tr>\n",
       "      <th>173188</th>\n",
       "      <td>جزا</td>\n",
       "      <td>N_SING_COM</td>\n",
       "      <td>1</td>\n",
       "      <td>False</td>\n",
       "      <td>True</td>\n",
       "      <td>False</td>\n",
       "      <td>False</td>\n",
       "      <td>False</td>\n",
       "      <td>False</td>\n",
       "    </tr>\n",
       "    <tr>\n",
       "      <th>181672</th>\n",
       "      <td>جزا</td>\n",
       "      <td>N_SING_COM</td>\n",
       "      <td>1</td>\n",
       "      <td>False</td>\n",
       "      <td>True</td>\n",
       "      <td>False</td>\n",
       "      <td>False</td>\n",
       "      <td>False</td>\n",
       "      <td>False</td>\n",
       "    </tr>\n",
       "    <tr>\n",
       "      <th>181681</th>\n",
       "      <td>جزا</td>\n",
       "      <td>N_SING_COM</td>\n",
       "      <td>1</td>\n",
       "      <td>False</td>\n",
       "      <td>True</td>\n",
       "      <td>False</td>\n",
       "      <td>False</td>\n",
       "      <td>False</td>\n",
       "      <td>False</td>\n",
       "    </tr>\n",
       "    <tr>\n",
       "      <th>181693</th>\n",
       "      <td>جزا</td>\n",
       "      <td>N_SING_COM</td>\n",
       "      <td>1</td>\n",
       "      <td>False</td>\n",
       "      <td>True</td>\n",
       "      <td>False</td>\n",
       "      <td>False</td>\n",
       "      <td>False</td>\n",
       "      <td>False</td>\n",
       "    </tr>\n",
       "  </tbody>\n",
       "</table>\n",
       "</div>"
      ],
      "text/plain": [
       "             token        pos_tag  ezafe_tag  has_aa_baakolaah  \\\n",
       "703           قبلا        ADV_TIM          1             False   \n",
       "5394          تنها  ADV_NI_NQ_SIM          1             False   \n",
       "15798         گزها       N_PL_COM          1             False   \n",
       "43871         مبدا     N_SING_COM          1             False   \n",
       "83633         منشا     N_SING_COM          1             False   \n",
       "85493     سریال‌ها       N_PL_COM          1             False   \n",
       "88756          جزا     N_SING_COM          1             False   \n",
       "101447         جزا     N_SING_COM          1             False   \n",
       "103866  پیچ‌و‌خمها       N_PL_COM          1             False   \n",
       "104944         خلا     N_SING_COM          1             False   \n",
       "107983         خلا     N_SING_COM          1             False   \n",
       "114395         جزا     N_SING_COM          1             False   \n",
       "121578     اوبسالا  N_SING_LOC_PR          1             False   \n",
       "159758         جزا     N_SING_COM          1             False   \n",
       "163811         جزا     N_SING_COM          1             False   \n",
       "168634         جزا     N_SING_COM          1             False   \n",
       "173188         جزا     N_SING_COM          1             False   \n",
       "181672         جزا     N_SING_COM          1             False   \n",
       "181681         جزا     N_SING_COM          1             False   \n",
       "181693         جزا     N_SING_COM          1             False   \n",
       "\n",
       "        has_aa_bikolaah  has_tarin  has_tar  has_vaav  has_he  \n",
       "703                True      False    False     False   False  \n",
       "5394               True      False    False     False   False  \n",
       "15798              True      False    False     False   False  \n",
       "43871              True      False    False     False   False  \n",
       "83633              True      False    False     False   False  \n",
       "85493              True      False    False     False   False  \n",
       "88756              True      False    False     False   False  \n",
       "101447             True      False    False     False   False  \n",
       "103866             True      False    False     False   False  \n",
       "104944             True      False    False     False   False  \n",
       "107983             True      False    False     False   False  \n",
       "114395             True      False    False     False   False  \n",
       "121578             True      False    False     False   False  \n",
       "159758             True      False    False     False   False  \n",
       "163811             True      False    False     False   False  \n",
       "168634             True      False    False     False   False  \n",
       "173188             True      False    False     False   False  \n",
       "181672             True      False    False     False   False  \n",
       "181681             True      False    False     False   False  \n",
       "181693             True      False    False     False   False  "
      ]
     },
     "execution_count": 10,
     "metadata": {},
     "output_type": "execute_result"
    }
   ],
   "source": [
    "df[(df[HAS_AA_BIKOLAAH]) & df[EZAFE_TAG]].head(20)"
   ]
  },
  {
   "cell_type": "markdown",
   "metadata": {},
   "source": [
    "#### Most of these must have a 'ی' at the end!"
   ]
  },
  {
   "cell_type": "markdown",
   "metadata": {},
   "source": [
    "### Now ترین and تر can get EZAFE sometimes. it's not wrong so we just check the numbers and pass"
   ]
  },
  {
   "cell_type": "code",
   "execution_count": 11,
   "metadata": {},
   "outputs": [
    {
     "data": {
      "text/plain": [
       "0    3916\n",
       "1     207\n",
       "Name: ezafe_tag, dtype: int64"
      ]
     },
     "execution_count": 11,
     "metadata": {},
     "output_type": "execute_result"
    },
    {
     "data": {
      "image/png": "[encoded data removed]",
      "text/plain": [
       "<Figure size 432x288 with 1 Axes>"
      ]
     },
     "metadata": {
      "needs_background": "light"
     },
     "output_type": "display_data"
    }
   ],
   "source": [
    "df[(df[HAS_TARIN])][EZAFE_TAG].hist()\n",
    "df[(df[HAS_TARIN])][EZAFE_TAG].value_counts()"
   ]
  },
  {
   "cell_type": "code",
   "execution_count": 12,
   "metadata": {},
   "outputs": [
    {
     "data": {
      "text/plain": [
       "0    8978\n",
       "1    1712\n",
       "Name: ezafe_tag, dtype: int64"
      ]
     },
     "execution_count": 12,
     "metadata": {},
     "output_type": "execute_result"
    },
    {
     "data": {
      "image/png": "[encoded data removed]",
      "text/plain": [
       "<Figure size 432x288 with 1 Axes>"
      ]
     },
     "metadata": {
      "needs_background": "light"
     },
     "output_type": "display_data"
    }
   ],
   "source": [
    "df[(df[HAS_TAR])][EZAFE_TAG].hist()\n",
    "df[(df[HAS_TAR])][EZAFE_TAG].value_counts()"
   ]
  },
  {
   "cell_type": "code",
   "execution_count": 13,
   "metadata": {},
   "outputs": [],
   "source": [
    "del df[HAS_TARIN]\n",
    "del df[HAS_TAR]"
   ]
  },
  {
   "cell_type": "markdown",
   "metadata": {},
   "source": [
    "### Now let's take a look at tokens having 'و' as their suffix. We have 140k of them and 1.8k has EZAFE! let's see them in details..."
   ]
  },
  {
   "cell_type": "code",
   "execution_count": 14,
   "metadata": {},
   "outputs": [
    {
     "data": {
      "text/plain": [
       "0    140824\n",
       "1      1843\n",
       "Name: ezafe_tag, dtype: int64"
      ]
     },
     "execution_count": 14,
     "metadata": {},
     "output_type": "execute_result"
    },
    {
     "data": {
      "image/png": "[encoded data removed]",
      "text/plain": [
       "<Figure size 432x288 with 1 Axes>"
      ]
     },
     "metadata": {
      "needs_background": "light"
     },
     "output_type": "display_data"
    }
   ],
   "source": [
    "df[(df[HAS_VAAV])][EZAFE_TAG].hist()\n",
    "df[(df[HAS_VAAV])][EZAFE_TAG].value_counts()"
   ]
  },
  {
   "cell_type": "code",
   "execution_count": 15,
   "metadata": {},
   "outputs": [
    {
     "data": {
      "text/html": [
       "<div>\n",
       "<style scoped>\n",
       "    .dataframe tbody tr th:only-of-type {\n",
       "        vertical-align: middle;\n",
       "    }\n",
       "\n",
       "    .dataframe tbody tr th {\n",
       "        vertical-align: top;\n",
       "    }\n",
       "\n",
       "    .dataframe thead th {\n",
       "        text-align: right;\n",
       "    }\n",
       "</style>\n",
       "<table border=\"1\" class=\"dataframe\">\n",
       "  <thead>\n",
       "    <tr style=\"text-align: right;\">\n",
       "      <th></th>\n",
       "      <th>token</th>\n",
       "      <th>pos_tag</th>\n",
       "      <th>ezafe_tag</th>\n",
       "      <th>has_aa_baakolaah</th>\n",
       "      <th>has_aa_bikolaah</th>\n",
       "      <th>has_vaav</th>\n",
       "      <th>has_he</th>\n",
       "    </tr>\n",
       "  </thead>\n",
       "  <tbody>\n",
       "    <tr>\n",
       "      <th>182</th>\n",
       "      <td>قلمرو</td>\n",
       "      <td>N_SING_COM</td>\n",
       "      <td>1</td>\n",
       "      <td>False</td>\n",
       "      <td>False</td>\n",
       "      <td>True</td>\n",
       "      <td>False</td>\n",
       "    </tr>\n",
       "    <tr>\n",
       "      <th>1087</th>\n",
       "      <td>جو</td>\n",
       "      <td>N_SING_COM</td>\n",
       "      <td>1</td>\n",
       "      <td>False</td>\n",
       "      <td>False</td>\n",
       "      <td>True</td>\n",
       "      <td>False</td>\n",
       "    </tr>\n",
       "    <tr>\n",
       "      <th>1750</th>\n",
       "      <td>خودرو</td>\n",
       "      <td>N_SING_COM</td>\n",
       "      <td>1</td>\n",
       "      <td>False</td>\n",
       "      <td>False</td>\n",
       "      <td>True</td>\n",
       "      <td>False</td>\n",
       "    </tr>\n",
       "    <tr>\n",
       "      <th>2049</th>\n",
       "      <td>قلمرو</td>\n",
       "      <td>N_SING_COM</td>\n",
       "      <td>1</td>\n",
       "      <td>False</td>\n",
       "      <td>False</td>\n",
       "      <td>True</td>\n",
       "      <td>False</td>\n",
       "    </tr>\n",
       "    <tr>\n",
       "      <th>12610</th>\n",
       "      <td>نحو</td>\n",
       "      <td>N_SING_COM</td>\n",
       "      <td>1</td>\n",
       "      <td>False</td>\n",
       "      <td>False</td>\n",
       "      <td>True</td>\n",
       "      <td>False</td>\n",
       "    </tr>\n",
       "    <tr>\n",
       "      <th>...</th>\n",
       "      <td>...</td>\n",
       "      <td>...</td>\n",
       "      <td>...</td>\n",
       "      <td>...</td>\n",
       "      <td>...</td>\n",
       "      <td>...</td>\n",
       "      <td>...</td>\n",
       "    </tr>\n",
       "    <tr>\n",
       "      <th>2590428</th>\n",
       "      <td>عضو</td>\n",
       "      <td>N_SING_COM</td>\n",
       "      <td>1</td>\n",
       "      <td>False</td>\n",
       "      <td>False</td>\n",
       "      <td>True</td>\n",
       "      <td>False</td>\n",
       "    </tr>\n",
       "    <tr>\n",
       "      <th>2590471</th>\n",
       "      <td>عضو</td>\n",
       "      <td>N_SING_COM</td>\n",
       "      <td>1</td>\n",
       "      <td>False</td>\n",
       "      <td>False</td>\n",
       "      <td>True</td>\n",
       "      <td>False</td>\n",
       "    </tr>\n",
       "    <tr>\n",
       "      <th>2596704</th>\n",
       "      <td>عضو</td>\n",
       "      <td>N_SING_COM</td>\n",
       "      <td>1</td>\n",
       "      <td>False</td>\n",
       "      <td>False</td>\n",
       "      <td>True</td>\n",
       "      <td>False</td>\n",
       "    </tr>\n",
       "    <tr>\n",
       "      <th>2597851</th>\n",
       "      <td>عضو</td>\n",
       "      <td>N_SING_COM</td>\n",
       "      <td>1</td>\n",
       "      <td>False</td>\n",
       "      <td>False</td>\n",
       "      <td>True</td>\n",
       "      <td>False</td>\n",
       "    </tr>\n",
       "    <tr>\n",
       "      <th>2601501</th>\n",
       "      <td>بدو</td>\n",
       "      <td>N_SING_COM</td>\n",
       "      <td>1</td>\n",
       "      <td>False</td>\n",
       "      <td>False</td>\n",
       "      <td>True</td>\n",
       "      <td>False</td>\n",
       "    </tr>\n",
       "  </tbody>\n",
       "</table>\n",
       "<p>1843 rows × 7 columns</p>\n",
       "</div>"
      ],
      "text/plain": [
       "         token     pos_tag  ezafe_tag  has_aa_baakolaah  has_aa_bikolaah  \\\n",
       "182      قلمرو  N_SING_COM          1             False            False   \n",
       "1087        جو  N_SING_COM          1             False            False   \n",
       "1750     خودرو  N_SING_COM          1             False            False   \n",
       "2049     قلمرو  N_SING_COM          1             False            False   \n",
       "12610      نحو  N_SING_COM          1             False            False   \n",
       "...        ...         ...        ...               ...              ...   \n",
       "2590428    عضو  N_SING_COM          1             False            False   \n",
       "2590471    عضو  N_SING_COM          1             False            False   \n",
       "2596704    عضو  N_SING_COM          1             False            False   \n",
       "2597851    عضو  N_SING_COM          1             False            False   \n",
       "2601501    بدو  N_SING_COM          1             False            False   \n",
       "\n",
       "         has_vaav  has_he  \n",
       "182          True   False  \n",
       "1087         True   False  \n",
       "1750         True   False  \n",
       "2049         True   False  \n",
       "12610        True   False  \n",
       "...           ...     ...  \n",
       "2590428      True   False  \n",
       "2590471      True   False  \n",
       "2596704      True   False  \n",
       "2597851      True   False  \n",
       "2601501      True   False  \n",
       "\n",
       "[1843 rows x 7 columns]"
      ]
     },
     "execution_count": 15,
     "metadata": {},
     "output_type": "execute_result"
    }
   ],
   "source": [
    "df[(df[HAS_VAAV]) & df[EZAFE_TAG]]"
   ]
  },
  {
   "cell_type": "markdown",
   "metadata": {},
   "source": [
    "#### These cases seem rational too and can't help us mush. because the sound 'v' as well(not just sound 'oo')"
   ]
  },
  {
   "cell_type": "markdown",
   "metadata": {},
   "source": [
    "### Now let's the tokens with 'ا'. We have 254k of them and suprisingly theres 64215 of them getting EZAFE!!!"
   ]
  },
  {
   "cell_type": "markdown",
   "metadata": {},
   "source": [
    "#### Let's look in details"
   ]
  },
  {
   "cell_type": "code",
   "execution_count": 16,
   "metadata": {},
   "outputs": [
    {
     "data": {
      "text/plain": [
       "0    254930\n",
       "1     64215\n",
       "Name: ezafe_tag, dtype: int64"
      ]
     },
     "execution_count": 16,
     "metadata": {},
     "output_type": "execute_result"
    },
    {
     "data": {
      "image/png": "[encoded data removed]",
      "text/plain": [
       "<Figure size 432x288 with 1 Axes>"
      ]
     },
     "metadata": {
      "needs_background": "light"
     },
     "output_type": "display_data"
    }
   ],
   "source": [
    "df[(df[HAS_HE])][EZAFE_TAG].hist()\n",
    "df[(df[HAS_HE])][EZAFE_TAG].value_counts()"
   ]
  },
  {
   "cell_type": "code",
   "execution_count": 17,
   "metadata": {},
   "outputs": [
    {
     "data": {
      "text/html": [
       "<div>\n",
       "<style scoped>\n",
       "    .dataframe tbody tr th:only-of-type {\n",
       "        vertical-align: middle;\n",
       "    }\n",
       "\n",
       "    .dataframe tbody tr th {\n",
       "        vertical-align: top;\n",
       "    }\n",
       "\n",
       "    .dataframe thead th {\n",
       "        text-align: right;\n",
       "    }\n",
       "</style>\n",
       "<table border=\"1\" class=\"dataframe\">\n",
       "  <thead>\n",
       "    <tr style=\"text-align: right;\">\n",
       "      <th></th>\n",
       "      <th>token</th>\n",
       "      <th>pos_tag</th>\n",
       "      <th>ezafe_tag</th>\n",
       "      <th>has_aa_baakolaah</th>\n",
       "      <th>has_aa_bikolaah</th>\n",
       "      <th>has_vaav</th>\n",
       "      <th>has_he</th>\n",
       "    </tr>\n",
       "  </thead>\n",
       "  <tbody>\n",
       "    <tr>\n",
       "      <th>137</th>\n",
       "      <td>رشته</td>\n",
       "      <td>N_SING_COM</td>\n",
       "      <td>1</td>\n",
       "      <td>False</td>\n",
       "      <td>False</td>\n",
       "      <td>False</td>\n",
       "      <td>True</td>\n",
       "    </tr>\n",
       "    <tr>\n",
       "      <th>141</th>\n",
       "      <td>دانشگاه</td>\n",
       "      <td>N_SING_LOC</td>\n",
       "      <td>1</td>\n",
       "      <td>False</td>\n",
       "      <td>False</td>\n",
       "      <td>False</td>\n",
       "      <td>True</td>\n",
       "    </tr>\n",
       "    <tr>\n",
       "      <th>207</th>\n",
       "      <td>شیوه</td>\n",
       "      <td>N_SING_COM</td>\n",
       "      <td>1</td>\n",
       "      <td>False</td>\n",
       "      <td>False</td>\n",
       "      <td>False</td>\n",
       "      <td>True</td>\n",
       "    </tr>\n",
       "    <tr>\n",
       "      <th>255</th>\n",
       "      <td>برنامه</td>\n",
       "      <td>N_SING_COM</td>\n",
       "      <td>1</td>\n",
       "      <td>False</td>\n",
       "      <td>False</td>\n",
       "      <td>False</td>\n",
       "      <td>True</td>\n",
       "    </tr>\n",
       "    <tr>\n",
       "      <th>276</th>\n",
       "      <td>نشان‌دهنده</td>\n",
       "      <td>ADJ_SIM</td>\n",
       "      <td>1</td>\n",
       "      <td>False</td>\n",
       "      <td>False</td>\n",
       "      <td>False</td>\n",
       "      <td>True</td>\n",
       "    </tr>\n",
       "    <tr>\n",
       "      <th>...</th>\n",
       "      <td>...</td>\n",
       "      <td>...</td>\n",
       "      <td>...</td>\n",
       "      <td>...</td>\n",
       "      <td>...</td>\n",
       "      <td>...</td>\n",
       "      <td>...</td>\n",
       "    </tr>\n",
       "    <tr>\n",
       "      <th>2602332</th>\n",
       "      <td>روزنامه</td>\n",
       "      <td>N_SING_COM</td>\n",
       "      <td>1</td>\n",
       "      <td>False</td>\n",
       "      <td>False</td>\n",
       "      <td>False</td>\n",
       "      <td>True</td>\n",
       "    </tr>\n",
       "    <tr>\n",
       "      <th>2602343</th>\n",
       "      <td>درباره</td>\n",
       "      <td>P_GENR</td>\n",
       "      <td>1</td>\n",
       "      <td>False</td>\n",
       "      <td>False</td>\n",
       "      <td>False</td>\n",
       "      <td>True</td>\n",
       "    </tr>\n",
       "    <tr>\n",
       "      <th>2602348</th>\n",
       "      <td>میوه</td>\n",
       "      <td>N_SING_COM</td>\n",
       "      <td>1</td>\n",
       "      <td>False</td>\n",
       "      <td>False</td>\n",
       "      <td>False</td>\n",
       "      <td>True</td>\n",
       "    </tr>\n",
       "    <tr>\n",
       "      <th>2602469</th>\n",
       "      <td>مقایسه</td>\n",
       "      <td>N_SING_COM</td>\n",
       "      <td>1</td>\n",
       "      <td>False</td>\n",
       "      <td>False</td>\n",
       "      <td>False</td>\n",
       "      <td>True</td>\n",
       "    </tr>\n",
       "    <tr>\n",
       "      <th>2602514</th>\n",
       "      <td>گفته</td>\n",
       "      <td>N_SING_COM</td>\n",
       "      <td>1</td>\n",
       "      <td>False</td>\n",
       "      <td>False</td>\n",
       "      <td>False</td>\n",
       "      <td>True</td>\n",
       "    </tr>\n",
       "  </tbody>\n",
       "</table>\n",
       "<p>64215 rows × 7 columns</p>\n",
       "</div>"
      ],
      "text/plain": [
       "              token     pos_tag  ezafe_tag  has_aa_baakolaah  has_aa_bikolaah  \\\n",
       "137            رشته  N_SING_COM          1             False            False   \n",
       "141         دانشگاه  N_SING_LOC          1             False            False   \n",
       "207            شیوه  N_SING_COM          1             False            False   \n",
       "255          برنامه  N_SING_COM          1             False            False   \n",
       "276      نشان‌دهنده     ADJ_SIM          1             False            False   \n",
       "...             ...         ...        ...               ...              ...   \n",
       "2602332     روزنامه  N_SING_COM          1             False            False   \n",
       "2602343      درباره      P_GENR          1             False            False   \n",
       "2602348        میوه  N_SING_COM          1             False            False   \n",
       "2602469      مقایسه  N_SING_COM          1             False            False   \n",
       "2602514        گفته  N_SING_COM          1             False            False   \n",
       "\n",
       "         has_vaav  has_he  \n",
       "137         False    True  \n",
       "141         False    True  \n",
       "207         False    True  \n",
       "255         False    True  \n",
       "276         False    True  \n",
       "...           ...     ...  \n",
       "2602332     False    True  \n",
       "2602343     False    True  \n",
       "2602348     False    True  \n",
       "2602469     False    True  \n",
       "2602514     False    True  \n",
       "\n",
       "[64215 rows x 7 columns]"
      ]
     },
     "execution_count": 17,
     "metadata": {},
     "output_type": "execute_result"
    }
   ],
   "source": [
    "df[(df[HAS_HE]) & df[EZAFE_TAG]]"
   ]
  },
  {
   "cell_type": "markdown",
   "metadata": {},
   "source": [
    "#### This is too much! we need to fix them. we need to add a letter 'ی' to these tokens"
   ]
  },
  {
   "cell_type": "markdown",
   "metadata": {},
   "source": [
    "### We need to append a letter 'ی' to those tokens having some special suffix(last letter) AND EZAFE! we have 2 conditions. consider each condition 1. we construct a new column each row is a number between 0 and 2. showing how many of those conditions it holds.(2s are our target. one for having special last letter and one for having EZAFE)"
   ]
  },
  {
   "cell_type": "markdown",
   "metadata": {},
   "source": [
    "### In here we difine two functions. one just determines if the word has some of those special suffixes\n",
    "### The other replaces '2'(the row having both conditions) with 'ی' and \"empty string\" for others."
   ]
  },
  {
   "cell_type": "code",
   "execution_count": 18,
   "metadata": {},
   "outputs": [],
   "source": [
    "def hasSpecialLastLetter(s: str) -> str:\n",
    "    return (s.endswith('ه') and not s.endswith('اه')) or s.endswith('ا') or s.endswith('آ')\n",
    "    \n",
    "def replaceYeWithTwo(num: int) -> str:\n",
    "    return '‌ی' if num==2 else ''"
   ]
  },
  {
   "cell_type": "markdown",
   "metadata": {},
   "source": [
    "#### Now here we build and and concat it to the end of the 'token' columns"
   ]
  },
  {
   "cell_type": "code",
   "execution_count": 19,
   "metadata": {},
   "outputs": [
    {
     "data": {
      "text/plain": [
       "<AxesSubplot:>"
      ]
     },
     "execution_count": 19,
     "metadata": {},
     "output_type": "execute_result"
    },
    {
     "data": {
      "image/png": "[encoded data removed]",
      "text/plain": [
       "<Figure size 432x288 with 1 Axes>"
      ]
     },
     "metadata": {
      "needs_background": "light"
     },
     "output_type": "display_data"
    }
   ],
   "source": [
    "df['temp'] = df[TOKEN].apply(hasSpecialLastLetter)\n",
    "\n",
    "'''\n",
    "    the temp column has 1 wherever the corresponding has special last letter\n",
    "'''\n",
    "\n",
    "df['temp'] = df['temp'] + df[EZAFE_TAG]\n",
    "'''\n",
    "This operations apply an logical AND between those 2 conditions. we will have '2' IFF the token has EZAFE AND special last letter\n",
    "Actually let's take a look at it\n",
    "'''\n",
    "\n",
    "df['temp'].value_counts()\n",
    "df['temp'].hist()\n"
   ]
  },
  {
   "cell_type": "markdown",
   "metadata": {},
   "source": [
    "### Just as expected! 57074 BAD cases(tokens) that need a letter 'ی' at their end"
   ]
  },
  {
   "cell_type": "code",
   "execution_count": 20,
   "metadata": {},
   "outputs": [
    {
     "data": {
      "text/html": [
       "<div>\n",
       "<style scoped>\n",
       "    .dataframe tbody tr th:only-of-type {\n",
       "        vertical-align: middle;\n",
       "    }\n",
       "\n",
       "    .dataframe tbody tr th {\n",
       "        vertical-align: top;\n",
       "    }\n",
       "\n",
       "    .dataframe thead th {\n",
       "        text-align: right;\n",
       "    }\n",
       "</style>\n",
       "<table border=\"1\" class=\"dataframe\">\n",
       "  <thead>\n",
       "    <tr style=\"text-align: right;\">\n",
       "      <th></th>\n",
       "      <th>token</th>\n",
       "      <th>pos_tag</th>\n",
       "      <th>ezafe_tag</th>\n",
       "      <th>has_aa_baakolaah</th>\n",
       "      <th>has_aa_bikolaah</th>\n",
       "      <th>has_vaav</th>\n",
       "      <th>has_he</th>\n",
       "      <th>temp</th>\n",
       "    </tr>\n",
       "  </thead>\n",
       "  <tbody>\n",
       "    <tr>\n",
       "      <th>137</th>\n",
       "      <td>رشته‌ی</td>\n",
       "      <td>N_SING_COM</td>\n",
       "      <td>1</td>\n",
       "      <td>False</td>\n",
       "      <td>False</td>\n",
       "      <td>False</td>\n",
       "      <td>True</td>\n",
       "      <td>2</td>\n",
       "    </tr>\n",
       "    <tr>\n",
       "      <th>207</th>\n",
       "      <td>شیوه‌ی</td>\n",
       "      <td>N_SING_COM</td>\n",
       "      <td>1</td>\n",
       "      <td>False</td>\n",
       "      <td>False</td>\n",
       "      <td>False</td>\n",
       "      <td>True</td>\n",
       "      <td>2</td>\n",
       "    </tr>\n",
       "    <tr>\n",
       "      <th>255</th>\n",
       "      <td>برنامه‌ی</td>\n",
       "      <td>N_SING_COM</td>\n",
       "      <td>1</td>\n",
       "      <td>False</td>\n",
       "      <td>False</td>\n",
       "      <td>False</td>\n",
       "      <td>True</td>\n",
       "      <td>2</td>\n",
       "    </tr>\n",
       "    <tr>\n",
       "      <th>276</th>\n",
       "      <td>نشان‌دهنده‌ی</td>\n",
       "      <td>ADJ_SIM</td>\n",
       "      <td>1</td>\n",
       "      <td>False</td>\n",
       "      <td>False</td>\n",
       "      <td>False</td>\n",
       "      <td>True</td>\n",
       "      <td>2</td>\n",
       "    </tr>\n",
       "    <tr>\n",
       "      <th>298</th>\n",
       "      <td>دستمایه‌ی</td>\n",
       "      <td>N_SING_COM</td>\n",
       "      <td>1</td>\n",
       "      <td>False</td>\n",
       "      <td>False</td>\n",
       "      <td>False</td>\n",
       "      <td>True</td>\n",
       "      <td>2</td>\n",
       "    </tr>\n",
       "    <tr>\n",
       "      <th>...</th>\n",
       "      <td>...</td>\n",
       "      <td>...</td>\n",
       "      <td>...</td>\n",
       "      <td>...</td>\n",
       "      <td>...</td>\n",
       "      <td>...</td>\n",
       "      <td>...</td>\n",
       "      <td>...</td>\n",
       "    </tr>\n",
       "    <tr>\n",
       "      <th>2602332</th>\n",
       "      <td>روزنامه‌ی</td>\n",
       "      <td>N_SING_COM</td>\n",
       "      <td>1</td>\n",
       "      <td>False</td>\n",
       "      <td>False</td>\n",
       "      <td>False</td>\n",
       "      <td>True</td>\n",
       "      <td>2</td>\n",
       "    </tr>\n",
       "    <tr>\n",
       "      <th>2602343</th>\n",
       "      <td>درباره‌ی</td>\n",
       "      <td>P_GENR</td>\n",
       "      <td>1</td>\n",
       "      <td>False</td>\n",
       "      <td>False</td>\n",
       "      <td>False</td>\n",
       "      <td>True</td>\n",
       "      <td>2</td>\n",
       "    </tr>\n",
       "    <tr>\n",
       "      <th>2602348</th>\n",
       "      <td>میوه‌ی</td>\n",
       "      <td>N_SING_COM</td>\n",
       "      <td>1</td>\n",
       "      <td>False</td>\n",
       "      <td>False</td>\n",
       "      <td>False</td>\n",
       "      <td>True</td>\n",
       "      <td>2</td>\n",
       "    </tr>\n",
       "    <tr>\n",
       "      <th>2602469</th>\n",
       "      <td>مقایسه‌ی</td>\n",
       "      <td>N_SING_COM</td>\n",
       "      <td>1</td>\n",
       "      <td>False</td>\n",
       "      <td>False</td>\n",
       "      <td>False</td>\n",
       "      <td>True</td>\n",
       "      <td>2</td>\n",
       "    </tr>\n",
       "    <tr>\n",
       "      <th>2602514</th>\n",
       "      <td>گفته‌ی</td>\n",
       "      <td>N_SING_COM</td>\n",
       "      <td>1</td>\n",
       "      <td>False</td>\n",
       "      <td>False</td>\n",
       "      <td>False</td>\n",
       "      <td>True</td>\n",
       "      <td>2</td>\n",
       "    </tr>\n",
       "  </tbody>\n",
       "</table>\n",
       "<p>57079 rows × 8 columns</p>\n",
       "</div>"
      ],
      "text/plain": [
       "                token     pos_tag  ezafe_tag  has_aa_baakolaah  \\\n",
       "137            رشته‌ی  N_SING_COM          1             False   \n",
       "207            شیوه‌ی  N_SING_COM          1             False   \n",
       "255          برنامه‌ی  N_SING_COM          1             False   \n",
       "276      نشان‌دهنده‌ی     ADJ_SIM          1             False   \n",
       "298         دستمایه‌ی  N_SING_COM          1             False   \n",
       "...               ...         ...        ...               ...   \n",
       "2602332     روزنامه‌ی  N_SING_COM          1             False   \n",
       "2602343      درباره‌ی      P_GENR          1             False   \n",
       "2602348        میوه‌ی  N_SING_COM          1             False   \n",
       "2602469      مقایسه‌ی  N_SING_COM          1             False   \n",
       "2602514        گفته‌ی  N_SING_COM          1             False   \n",
       "\n",
       "         has_aa_bikolaah  has_vaav  has_he  temp  \n",
       "137                False     False    True     2  \n",
       "207                False     False    True     2  \n",
       "255                False     False    True     2  \n",
       "276                False     False    True     2  \n",
       "298                False     False    True     2  \n",
       "...                  ...       ...     ...   ...  \n",
       "2602332            False     False    True     2  \n",
       "2602343            False     False    True     2  \n",
       "2602348            False     False    True     2  \n",
       "2602469            False     False    True     2  \n",
       "2602514            False     False    True     2  \n",
       "\n",
       "[57079 rows x 8 columns]"
      ]
     },
     "execution_count": 20,
     "metadata": {},
     "output_type": "execute_result"
    }
   ],
   "source": [
    "df[TOKEN] = df[TOKEN] + df['temp'].apply(replaceYeWithTwo)\n",
    "df[df['temp']==2]"
   ]
  },
  {
   "cell_type": "markdown",
   "metadata": {},
   "source": [
    "### As you can see now it's correct!"
   ]
  },
  {
   "cell_type": "markdown",
   "metadata": {},
   "source": [
    "## Now for Another pre processing we need to insert a new column 'last_letter' to do this we need to define the following function:"
   ]
  },
  {
   "cell_type": "code",
   "execution_count": 21,
   "metadata": {},
   "outputs": [],
   "source": [
    "special_suffixes = {\n",
    "                    # 'تر',\n",
    "                    # 'ترین',\n",
    "                    'ا',\n",
    "                    'آ',\n",
    "                    # 'و',\n",
    "                    'ه',\n",
    "                }\n",
    "def classifyLastLetter(s: str) -> int:\n",
    "    if s[-1] in special_suffixes:\n",
    "        return 'special'\n",
    "    if s[-1].isalpha():\n",
    "        return s[-1]\n",
    "    if s[-1].isnumeric():\n",
    "        return 'numeric'\n",
    "    else:\n",
    "        return 'other'\n",
    "    "
   ]
  },
  {
   "cell_type": "markdown",
   "metadata": {},
   "source": [
    "### And create 2 new columns. suprisingly the length of the token will be helpful!"
   ]
  },
  {
   "cell_type": "code",
   "execution_count": 22,
   "metadata": {},
   "outputs": [],
   "source": [
    "df[LAST_LETTER] = df[TOKEN].apply(classifyLastLetter)\n",
    "df[TOKEN_LENGTH] = df[TOKEN].apply(lambda s: len(s))"
   ]
  },
  {
   "cell_type": "code",
   "execution_count": 23,
   "metadata": {},
   "outputs": [
    {
     "data": {
      "text/plain": [
       "0          6\n",
       "1          1\n",
       "2          5\n",
       "3          5\n",
       "4          8\n",
       "          ..\n",
       "2602531    6\n",
       "2602532    5\n",
       "2602533    3\n",
       "2602534    3\n",
       "2602535    1\n",
       "Name: token_length, Length: 2602536, dtype: int64"
      ]
     },
     "execution_count": 23,
     "metadata": {},
     "output_type": "execute_result"
    },
    {
     "data": {
      "image/png": "[encoded data removed]",
      "text/plain": [
       "<Figure size 432x288 with 1 Axes>"
      ]
     },
     "metadata": {
      "needs_background": "light"
     },
     "output_type": "display_data"
    }
   ],
   "source": [
    "df[TOKEN_LENGTH].hist(bins=30)\n",
    "df[TOKEN_LENGTH]"
   ]
  },
  {
   "cell_type": "markdown",
   "metadata": {},
   "source": [
    "### we know that the verbs won't ever have EZAFE. so we create a boolean column for that as well."
   ]
  },
  {
   "cell_type": "code",
   "execution_count": 24,
   "metadata": {},
   "outputs": [
    {
     "data": {
      "text/plain": [
       "<AxesSubplot:>"
      ]
     },
     "execution_count": 24,
     "metadata": {},
     "output_type": "execute_result"
    },
    {
     "data": {
      "image/png": "[encoded data removed]",
      "text/plain": [
       "<Figure size 432x288 with 1 Axes>"
      ]
     },
     "metadata": {
      "needs_background": "light"
     },
     "output_type": "display_data"
    }
   ],
   "source": [
    "df[IS_VERB] = df[POS_TAG].apply(lambda s: str(s).startswith('V_')).astype(int)\n",
    "df[IS_VERB].hist()"
   ]
  },
  {
   "cell_type": "markdown",
   "metadata": {},
   "source": [
    "## Now since we can't work with string data we need to convert them to numeric data using a label encoder."
   ]
  },
  {
   "cell_type": "markdown",
   "metadata": {},
   "source": [
    "##### And a preview of our data frame"
   ]
  },
  {
   "cell_type": "code",
   "execution_count": 25,
   "metadata": {},
   "outputs": [],
   "source": [
    "from sklearn import preprocessing\n",
    "label_encoder = preprocessing.LabelEncoder()\n",
    "df[POS_TAG] = label_encoder.fit_transform(df[POS_TAG])\n",
    "df[LAST_LETTER] = label_encoder.fit_transform(df[LAST_LETTER])\n",
    "df[TOKEN] = label_encoder.fit_transform(df[TOKEN])\n"
   ]
  },
  {
   "cell_type": "code",
   "execution_count": 26,
   "metadata": {},
   "outputs": [
    {
     "data": {
      "text/plain": [
       "0          248\n",
       "1           65\n",
       "2          167\n",
       "3          167\n",
       "4          167\n",
       "          ... \n",
       "2602531     23\n",
       "2602532    121\n",
       "2602533     18\n",
       "2602534    423\n",
       "2602535     65\n",
       "Name: pos_tag, Length: 2602536, dtype: int64"
      ]
     },
     "execution_count": 26,
     "metadata": {},
     "output_type": "execute_result"
    },
    {
     "data": {
      "image/png": "[encoded data removed]",
      "text/plain": [
       "<Figure size 432x288 with 1 Axes>"
      ]
     },
     "metadata": {
      "needs_background": "light"
     },
     "output_type": "display_data"
    }
   ],
   "source": [
    "df[POS_TAG].hist(bins=len(df[POS_TAG].unique()))\n",
    "df[POS_TAG]"
   ]
  },
  {
   "cell_type": "code",
   "execution_count": 27,
   "metadata": {},
   "outputs": [
    {
     "data": {
      "text/plain": [
       "0          41\n",
       "1          41\n",
       "2          61\n",
       "3          85\n",
       "4          85\n",
       "           ..\n",
       "2602531    85\n",
       "2602532    61\n",
       "2602533    45\n",
       "2602534    56\n",
       "2602535    41\n",
       "Name: last_letter, Length: 2602536, dtype: int64"
      ]
     },
     "execution_count": 27,
     "metadata": {},
     "output_type": "execute_result"
    },
    {
     "data": {
      "image/png": "[encoded data removed]",
      "text/plain": [
       "<Figure size 432x288 with 1 Axes>"
      ]
     },
     "metadata": {
      "needs_background": "light"
     },
     "output_type": "display_data"
    }
   ],
   "source": [
    "df[LAST_LETTER].hist(bins=80)\n",
    "df[LAST_LETTER]"
   ]
  },
  {
   "cell_type": "markdown",
   "metadata": {},
   "source": [
    "#### But an important thing is that the pos_tag of the next and [maybe] the previous token can be a greate help\n",
    "#### so we make a shift to top and down to have them.\n",
    "#### we also set the NaN values (generated by shifts) to zero"
   ]
  },
  {
   "cell_type": "code",
   "execution_count": 28,
   "metadata": {},
   "outputs": [
    {
     "name": "stderr",
     "output_type": "stream",
     "text": [
      "/tmp/ipykernel_3396/1393868010.py:3: SettingWithCopyWarning: \n",
      "A value is trying to be set on a copy of a slice from a DataFrame\n",
      "\n",
      "See the caveats in the documentation: http://pandas.pydata.org/pandas-docs/stable/user_guide/indexing.html#returning-a-view-versus-a-copy\n",
      "  df[NEXT_TOKEN_POS][len(df[NEXT_TOKEN_POS])-1] = 0\n",
      "/tmp/ipykernel_3396/1393868010.py:4: SettingWithCopyWarning: \n",
      "A value is trying to be set on a copy of a slice from a DataFrame\n",
      "\n",
      "See the caveats in the documentation: http://pandas.pydata.org/pandas-docs/stable/user_guide/indexing.html#returning-a-view-versus-a-copy\n",
      "  df[PREV_TOKE_POS][0] = 0\n"
     ]
    },
    {
     "data": {
      "text/html": [
       "<div>\n",
       "<style scoped>\n",
       "    .dataframe tbody tr th:only-of-type {\n",
       "        vertical-align: middle;\n",
       "    }\n",
       "\n",
       "    .dataframe tbody tr th {\n",
       "        vertical-align: top;\n",
       "    }\n",
       "\n",
       "    .dataframe thead th {\n",
       "        text-align: right;\n",
       "    }\n",
       "</style>\n",
       "<table border=\"1\" class=\"dataframe\">\n",
       "  <thead>\n",
       "    <tr style=\"text-align: right;\">\n",
       "      <th></th>\n",
       "      <th>token</th>\n",
       "      <th>pos_tag</th>\n",
       "      <th>ezafe_tag</th>\n",
       "      <th>has_aa_baakolaah</th>\n",
       "      <th>has_aa_bikolaah</th>\n",
       "      <th>has_vaav</th>\n",
       "      <th>has_he</th>\n",
       "      <th>temp</th>\n",
       "      <th>last_letter</th>\n",
       "      <th>token_length</th>\n",
       "      <th>is_verb</th>\n",
       "      <th>prev_token_pos</th>\n",
       "      <th>next_token_pos</th>\n",
       "    </tr>\n",
       "  </thead>\n",
       "  <tbody>\n",
       "    <tr>\n",
       "      <th>0</th>\n",
       "      <td>136</td>\n",
       "      <td>248</td>\n",
       "      <td>0</td>\n",
       "      <td>False</td>\n",
       "      <td>False</td>\n",
       "      <td>False</td>\n",
       "      <td>False</td>\n",
       "      <td>0</td>\n",
       "      <td>41</td>\n",
       "      <td>6</td>\n",
       "      <td>0</td>\n",
       "      <td>0.0</td>\n",
       "      <td>65.0</td>\n",
       "    </tr>\n",
       "    <tr>\n",
       "      <th>1</th>\n",
       "      <td>192</td>\n",
       "      <td>65</td>\n",
       "      <td>0</td>\n",
       "      <td>False</td>\n",
       "      <td>False</td>\n",
       "      <td>False</td>\n",
       "      <td>False</td>\n",
       "      <td>0</td>\n",
       "      <td>41</td>\n",
       "      <td>1</td>\n",
       "      <td>0</td>\n",
       "      <td>248.0</td>\n",
       "      <td>167.0</td>\n",
       "    </tr>\n",
       "    <tr>\n",
       "      <th>2</th>\n",
       "      <td>54551</td>\n",
       "      <td>167</td>\n",
       "      <td>1</td>\n",
       "      <td>False</td>\n",
       "      <td>False</td>\n",
       "      <td>False</td>\n",
       "      <td>False</td>\n",
       "      <td>1</td>\n",
       "      <td>61</td>\n",
       "      <td>5</td>\n",
       "      <td>0</td>\n",
       "      <td>65.0</td>\n",
       "      <td>167.0</td>\n",
       "    </tr>\n",
       "    <tr>\n",
       "      <th>3</th>\n",
       "      <td>40447</td>\n",
       "      <td>167</td>\n",
       "      <td>1</td>\n",
       "      <td>False</td>\n",
       "      <td>False</td>\n",
       "      <td>False</td>\n",
       "      <td>False</td>\n",
       "      <td>1</td>\n",
       "      <td>85</td>\n",
       "      <td>5</td>\n",
       "      <td>0</td>\n",
       "      <td>167.0</td>\n",
       "      <td>167.0</td>\n",
       "    </tr>\n",
       "    <tr>\n",
       "      <th>4</th>\n",
       "      <td>43094</td>\n",
       "      <td>167</td>\n",
       "      <td>0</td>\n",
       "      <td>False</td>\n",
       "      <td>False</td>\n",
       "      <td>False</td>\n",
       "      <td>False</td>\n",
       "      <td>0</td>\n",
       "      <td>85</td>\n",
       "      <td>8</td>\n",
       "      <td>0</td>\n",
       "      <td>167.0</td>\n",
       "      <td>65.0</td>\n",
       "    </tr>\n",
       "    <tr>\n",
       "      <th>...</th>\n",
       "      <td>...</td>\n",
       "      <td>...</td>\n",
       "      <td>...</td>\n",
       "      <td>...</td>\n",
       "      <td>...</td>\n",
       "      <td>...</td>\n",
       "      <td>...</td>\n",
       "      <td>...</td>\n",
       "      <td>...</td>\n",
       "      <td>...</td>\n",
       "      <td>...</td>\n",
       "      <td>...</td>\n",
       "      <td>...</td>\n",
       "    </tr>\n",
       "    <tr>\n",
       "      <th>2602531</th>\n",
       "      <td>55138</td>\n",
       "      <td>23</td>\n",
       "      <td>0</td>\n",
       "      <td>False</td>\n",
       "      <td>False</td>\n",
       "      <td>False</td>\n",
       "      <td>False</td>\n",
       "      <td>0</td>\n",
       "      <td>85</td>\n",
       "      <td>6</td>\n",
       "      <td>0</td>\n",
       "      <td>121.0</td>\n",
       "      <td>121.0</td>\n",
       "    </tr>\n",
       "    <tr>\n",
       "      <th>2602532</th>\n",
       "      <td>12468</td>\n",
       "      <td>121</td>\n",
       "      <td>0</td>\n",
       "      <td>False</td>\n",
       "      <td>False</td>\n",
       "      <td>False</td>\n",
       "      <td>False</td>\n",
       "      <td>0</td>\n",
       "      <td>61</td>\n",
       "      <td>5</td>\n",
       "      <td>0</td>\n",
       "      <td>23.0</td>\n",
       "      <td>18.0</td>\n",
       "    </tr>\n",
       "    <tr>\n",
       "      <th>2602533</th>\n",
       "      <td>40496</td>\n",
       "      <td>18</td>\n",
       "      <td>0</td>\n",
       "      <td>False</td>\n",
       "      <td>False</td>\n",
       "      <td>False</td>\n",
       "      <td>True</td>\n",
       "      <td>1</td>\n",
       "      <td>45</td>\n",
       "      <td>3</td>\n",
       "      <td>0</td>\n",
       "      <td>121.0</td>\n",
       "      <td>423.0</td>\n",
       "    </tr>\n",
       "    <tr>\n",
       "      <th>2602534</th>\n",
       "      <td>7812</td>\n",
       "      <td>423</td>\n",
       "      <td>0</td>\n",
       "      <td>False</td>\n",
       "      <td>False</td>\n",
       "      <td>False</td>\n",
       "      <td>False</td>\n",
       "      <td>0</td>\n",
       "      <td>56</td>\n",
       "      <td>3</td>\n",
       "      <td>1</td>\n",
       "      <td>18.0</td>\n",
       "      <td>65.0</td>\n",
       "    </tr>\n",
       "    <tr>\n",
       "      <th>2602535</th>\n",
       "      <td>209</td>\n",
       "      <td>65</td>\n",
       "      <td>0</td>\n",
       "      <td>False</td>\n",
       "      <td>False</td>\n",
       "      <td>False</td>\n",
       "      <td>False</td>\n",
       "      <td>0</td>\n",
       "      <td>41</td>\n",
       "      <td>1</td>\n",
       "      <td>0</td>\n",
       "      <td>423.0</td>\n",
       "      <td>0.0</td>\n",
       "    </tr>\n",
       "  </tbody>\n",
       "</table>\n",
       "<p>2602536 rows × 13 columns</p>\n",
       "</div>"
      ],
      "text/plain": [
       "         token  pos_tag  ezafe_tag  has_aa_baakolaah  has_aa_bikolaah  \\\n",
       "0          136      248          0             False            False   \n",
       "1          192       65          0             False            False   \n",
       "2        54551      167          1             False            False   \n",
       "3        40447      167          1             False            False   \n",
       "4        43094      167          0             False            False   \n",
       "...        ...      ...        ...               ...              ...   \n",
       "2602531  55138       23          0             False            False   \n",
       "2602532  12468      121          0             False            False   \n",
       "2602533  40496       18          0             False            False   \n",
       "2602534   7812      423          0             False            False   \n",
       "2602535    209       65          0             False            False   \n",
       "\n",
       "         has_vaav  has_he  temp  last_letter  token_length  is_verb  \\\n",
       "0           False   False     0           41             6        0   \n",
       "1           False   False     0           41             1        0   \n",
       "2           False   False     1           61             5        0   \n",
       "3           False   False     1           85             5        0   \n",
       "4           False   False     0           85             8        0   \n",
       "...           ...     ...   ...          ...           ...      ...   \n",
       "2602531     False   False     0           85             6        0   \n",
       "2602532     False   False     0           61             5        0   \n",
       "2602533     False    True     1           45             3        0   \n",
       "2602534     False   False     0           56             3        1   \n",
       "2602535     False   False     0           41             1        0   \n",
       "\n",
       "         prev_token_pos  next_token_pos  \n",
       "0                   0.0            65.0  \n",
       "1                 248.0           167.0  \n",
       "2                  65.0           167.0  \n",
       "3                 167.0           167.0  \n",
       "4                 167.0            65.0  \n",
       "...                 ...             ...  \n",
       "2602531           121.0           121.0  \n",
       "2602532            23.0            18.0  \n",
       "2602533           121.0           423.0  \n",
       "2602534            18.0            65.0  \n",
       "2602535           423.0             0.0  \n",
       "\n",
       "[2602536 rows x 13 columns]"
      ]
     },
     "execution_count": 28,
     "metadata": {},
     "output_type": "execute_result"
    }
   ],
   "source": [
    "df[PREV_TOKE_POS] = df[POS_TAG].shift(periods=1)\n",
    "df[NEXT_TOKEN_POS] = df[POS_TAG].shift(periods=-1)\n",
    "df[NEXT_TOKEN_POS][len(df[NEXT_TOKEN_POS])-1] = 0\n",
    "df[PREV_TOKE_POS][0] = 0\n",
    "df"
   ]
  },
  {
   "cell_type": "markdown",
   "metadata": {},
   "source": [
    "# Now our data is pre processed and ready to treain.\n",
    "### Since we will have to try different models with defferent parameters again and again we define these simple functions"
   ]
  },
  {
   "cell_type": "code",
   "execution_count": 29,
   "metadata": {},
   "outputs": [],
   "source": [
    "from sklearn.model_selection import train_test_split\n",
    "from sklearn.naive_bayes import MultinomialNB, GaussianNB\n",
    "from sklearn.model_selection import ShuffleSplit, cross_val_score\n",
    "from sklearn.metrics import precision_score, recall_score, accuracy_score\n",
    "\n",
    "'''\n",
    "    This simple function takes a model 'model' and the list of columns 'X_columns' to use as featues.\n",
    "    Then fit the data througth model using cross validation method and prints out the result.\n",
    "'''\n",
    "def runCrossValOnModel(model, X_columns: list):\n",
    "    X = df[X_columns]\n",
    "    Y = df[EZAFE_TAG] \n",
    "    cv = ShuffleSplit(10, test_size=0.2, random_state=0)\n",
    "    print(f\"result: {cross_val_score(model, X, Y, cv=cv).mean()*100}\")\n",
    "    \n",
    "\n",
    "'''\n",
    "This one take a model 'model' and the column names 'Xs' and randomly split it into train and test parts and fit the train part to the model.\n",
    "Then using that model predict the test part and calculate Accuracy, Precision and Recall.\n",
    "we have defferent parameters for precision and recall so we try them all.\n",
    "'''\n",
    "def runRandomSplitOnModel(model, Xs):\n",
    "    X = df[Xs]\n",
    "    Y = df[EZAFE_TAG]\n",
    "    X_train, X_test, T_train, Y_test = train_test_split(X, Y, test_size=0.2)\n",
    "    model.fit(X_train, T_train)\n",
    "    y_predict = model.predict(X_test)\n",
    "    print(f'Accuracy: {accuracy_score(Y_test, y_predict)}')\n",
    "\n",
    "    for parameter in ['binary', None, 'micro', 'macro', 'weighted']:\n",
    "        print(f'Precision [avg: {parameter}]: {precision_score(Y_test, y_predict, average=parameter)*100}')\n",
    "\n",
    "\n",
    "    for parameter in ['binary', None, 'micro', 'macro', 'weighted']:\n",
    "        print(f'Recall [avg: {parameter}]: {recall_score(Y_test, y_predict, average=parameter)*100}')\n",
    "\n"
   ]
  },
  {
   "cell_type": "markdown",
   "metadata": {},
   "source": [
    "### Now we try our data on an Gaussian Naive Bayse"
   ]
  },
  {
   "cell_type": "code",
   "execution_count": 30,
   "metadata": {},
   "outputs": [
    {
     "name": "stdout",
     "output_type": "stream",
     "text": [
      "result: 75.32910157000468\n",
      "Accuracy: 0.7537482613139471\n",
      "Precision [avg: binary]: 46.539591831619575\n",
      "Precision [avg: None]: [88.12524763 46.53959183]\n",
      "Precision [avg: micro]: 75.37482613139471\n",
      "Precision [avg: macro]: 67.33241973236595\n",
      "Precision [avg: weighted]: 78.76714084189173\n",
      "Recall [avg: binary]: 63.410198837199374\n",
      "Recall [avg: None]: [78.84906675 63.41019884]\n",
      "Recall [avg: micro]: 75.37482613139471\n",
      "Recall [avg: macro]: 71.12963279556466\n",
      "Recall [avg: weighted]: 75.37482613139471\n"
     ]
    }
   ],
   "source": [
    "runCrossValOnModel(\n",
    "            GaussianNB(), \n",
    "            [POS_TAG, NEXT_TOKEN_POS, PREV_TOKE_POS, LAST_LETTER]\n",
    ")\n",
    "\n",
    "runRandomSplitOnModel(\n",
    "    GaussianNB(),\n",
    "    [POS_TAG, NEXT_TOKEN_POS, PREV_TOKE_POS, LAST_LETTER]\n",
    ")"
   ]
  },
  {
   "cell_type": "markdown",
   "metadata": {},
   "source": [
    "#### Not good at all!"
   ]
  },
  {
   "cell_type": "markdown",
   "metadata": {},
   "source": [
    "### Let's try Multinomial one:"
   ]
  },
  {
   "cell_type": "code",
   "execution_count": 31,
   "metadata": {},
   "outputs": [
    {
     "name": "stdout",
     "output_type": "stream",
     "text": [
      "result: 64.21319172808103\n",
      "Accuracy: 0.6273794062723339\n",
      "Precision [avg: binary]: 33.1839806017158\n",
      "Precision [avg: None]: [85.71121256 33.1839806 ]\n",
      "Precision [avg: micro]: 62.73794062723339\n",
      "Precision [avg: macro]: 59.447596582379035\n",
      "Precision [avg: weighted]: 73.86486393303437\n",
      "Recall [avg: binary]: 64.35270766426156\n",
      "Recall [avg: None]: [62.26771747 64.35270766]\n",
      "Recall [avg: micro]: 62.73794062723339\n",
      "Recall [avg: macro]: 63.31021256863289\n",
      "Recall [avg: weighted]: 62.73794062723339\n"
     ]
    }
   ],
   "source": [
    "from sklearn.naive_bayes import MultinomialNB\n",
    "runCrossValOnModel(\n",
    "            MultinomialNB(alpha=0.9),\n",
    "            [POS_TAG, NEXT_TOKEN_POS, PREV_TOKE_POS, LAST_LETTER, TOKEN_LENGTH, \n",
    "            HAS_AA_BIKOLAAH, HAS_VAAV, HAS_HE]\n",
    ")\n",
    "runRandomSplitOnModel(\n",
    "    MultinomialNB(),\n",
    "    [POS_TAG, NEXT_TOKEN_POS, PREV_TOKE_POS, LAST_LETTER]\n",
    ")"
   ]
  },
  {
   "cell_type": "markdown",
   "metadata": {},
   "source": [
    "#### Not at all!"
   ]
  },
  {
   "cell_type": "markdown",
   "metadata": {},
   "source": [
    "### Let's try decision tree model"
   ]
  },
  {
   "cell_type": "code",
   "execution_count": 32,
   "metadata": {},
   "outputs": [
    {
     "name": "stdout",
     "output_type": "stream",
     "text": [
      "result: 96.9959731646776\n",
      "Accuracy: 0.9702041082942049\n",
      "Precision [avg: binary]: 93.15445214462807\n",
      "Precision [avg: None]: [98.15598677 93.15445214]\n",
      "Precision [avg: micro]: 97.02041082942048\n",
      "Precision [avg: macro]: 95.65521945583846\n",
      "Precision [avg: weighted]: 97.02685843393694\n",
      "Recall [avg: binary]: 93.68638730980018\n",
      "Recall [avg: None]: [97.99255583 93.68638731]\n",
      "Recall [avg: micro]: 97.02041082942048\n",
      "Recall [avg: macro]: 95.83947157053284\n",
      "Recall [avg: weighted]: 97.02041082942048\n"
     ]
    }
   ],
   "source": [
    "import sklearn.tree as tree\n",
    "runCrossValOnModel(                                                                                                       # BEST\n",
    "            tree.DecisionTreeClassifier(criterion='entropy'),           # add this parameter 96.99! time: 3.22\n",
    "            [TOKEN, POS_TAG, NEXT_TOKEN_POS, PREV_TOKE_POS, LAST_LETTER,       \n",
    "            HAS_AA_BIKOLAAH, HAS_VAAV, HAS_HE]\n",
    ")\n",
    "\n",
    "runRandomSplitOnModel(\n",
    "    tree.DecisionTreeClassifier(criterion='entropy'),\n",
    "    [IS_VERB, TOKEN, POS_TAG, NEXT_TOKEN_POS,\n",
    "    PREV_TOKE_POS, LAST_LETTER, TOKEN_LENGTH,\n",
    "    HAS_AA_BIKOLAAH, HAS_VAAV, HAS_HE]\n",
    ")"
   ]
  },
  {
   "cell_type": "markdown",
   "metadata": {},
   "source": [
    "# Good! \n",
    "### Now these parameters are the best found. you can check defferent parameters and their result below:"
   ]
  },
  {
   "cell_type": "markdown",
   "metadata": {},
   "source": [
    "# In the end we picked the last 100000 for testing and the other for training. check there too!!!"
   ]
  },
  {
   "cell_type": "code",
   "execution_count": 33,
   "metadata": {},
   "outputs": [],
   "source": [
    "# runCrossValOnModel(\n",
    "#             tree.DecisionTreeClassifier(),\n",
    "#             [TOKEN, POS_TAG, NEXT_TOKEN_POS, PREV_TOKE_POS, LAST_LETTER, TOKEN_LENGTH,  # add TOKEN got better! 96.975 time: 2.59\n",
    "#             HAS_AA_BIKOLAAH, HAS_VAAV, HAS_HE]\n",
    "# )\n"
   ]
  },
  {
   "cell_type": "code",
   "execution_count": 34,
   "metadata": {},
   "outputs": [],
   "source": [
    "# runCrossValOnModel(\n",
    "#             tree.DecisionTreeClassifier(),\n",
    "#             [TOKEN, POS_TAG, NEXT_TOKEN_POS, PREV_TOKE_POS, LAST_LETTER, TOKEN_LENGTH,  # remove \"hasABiKolaah\" a little worse 96.974 / time: 2.48\n",
    "#              HAS_VAAV, HAS_HE]\n",
    "# )\n"
   ]
  },
  {
   "cell_type": "code",
   "execution_count": 35,
   "metadata": {},
   "outputs": [],
   "source": [
    "# runCrossValOnModel(\n",
    "#             tree.DecisionTreeClassifier(),\n",
    "#             [TOKEN, POS_TAG, NEXT_TOKEN_POS, PREV_TOKE_POS, LAST_LETTER,  # remove TOKEN_LENGTH got better! 96.985 time: 1.36\n",
    "#             HAS_AA_BIKOLAAH, HAS_VAAV, HAS_HE]\n",
    "# )\n"
   ]
  },
  {
   "cell_type": "code",
   "execution_count": 36,
   "metadata": {},
   "outputs": [],
   "source": [
    "# runCrossValOnModel(\n",
    "#             tree.DecisionTreeClassifier(),\n",
    "#             [TOKEN, POS_TAG, NEXT_TOKEN_POS, PREV_TOKE_POS, LAST_LETTER, IS_VERB,  # add IS_VERB a little worse! 96.984 / time: 1.40\n",
    "#             HAS_AA_BIKOLAAH, HAS_VAAV, HAS_HE]\n",
    "# )\n"
   ]
  },
  {
   "cell_type": "code",
   "execution_count": 37,
   "metadata": {},
   "outputs": [],
   "source": [
    "# runCrossValOnModel(\n",
    "#             tree.DecisionTreeClassifier(),\n",
    "#             [TOKEN, POS_TAG, NEXT_TOKEN_POS, PREV_TOKE_POS, LAST_LETTER,  # remove hasVaav no difference! 96.985 time: 1.35\n",
    "#             HAS_AA_BIKOLAAH, HAS_HE]\n",
    "# )\n"
   ]
  },
  {
   "cell_type": "code",
   "execution_count": 38,
   "metadata": {},
   "outputs": [],
   "source": [
    "# runCrossValOnModel(\n",
    "#             tree.DecisionTreeClassifier(),\n",
    "#             [TOKEN, POS_TAG, NEXT_TOKEN_POS, PREV_TOKE_POS, LAST_LETTER,  # remove hasHe much worse! 96.930 time: 1.32\n",
    "#             HAS_AA_BIKOLAAH, HAS_VAAV]\n",
    "# )\n"
   ]
  },
  {
   "cell_type": "code",
   "execution_count": 39,
   "metadata": {},
   "outputs": [],
   "source": [
    "# runCrossValOnModel(\n",
    "#             tree.DecisionTreeClassifier(),\n",
    "#             [TOKEN, POS_TAG, NEXT_TOKEN_POS, PREV_TOKE_POS,             # remove LAST_LETTER MUCH WORSE! 96.71 time: 2.24\n",
    "#             HAS_AA_BIKOLAAH, HAS_VAAV, HAS_HE]\n",
    "# )\n"
   ]
  },
  {
   "cell_type": "code",
   "execution_count": 40,
   "metadata": {},
   "outputs": [],
   "source": [
    "# runCrossValOnModel(\n",
    "#             tree.DecisionTreeClassifier(),\n",
    "#             [TOKEN, POS_TAG, NEXT_TOKEN_POS, LAST_LETTER,  # remove PREV_POS_TAG ogt worse! 96.969 time: 2.1\n",
    "#             HAS_AA_BIKOLAAH, HAS_VAAV, HAS_HE]\n",
    "# )\n"
   ]
  },
  {
   "cell_type": "code",
   "execution_count": 41,
   "metadata": {},
   "outputs": [],
   "source": [
    "# runCrossValOnModel(                                                                                                       # BEST\n",
    "#             tree.DecisionTreeClassifier(criterion='entropy'),           # add this parameter 96.99! time: 3.22\n",
    "#             [TOKEN, POS_TAG, NEXT_TOKEN_POS, PREV_TOKE_POS, LAST_LETTER,       \n",
    "#             HAS_AA_BIKOLAAH, HAS_VAAV, HAS_HE]\n",
    "# )"
   ]
  },
  {
   "cell_type": "code",
   "execution_count": 42,
   "metadata": {},
   "outputs": [],
   "source": [
    "# runCrossValOnModel(\n",
    "#             tree.DecisionTreeClassifier(criterion='entropy', max_depth=10),           # add max_dpth parameter got much worse!! 94!!!! time: 2.57\n",
    "#             [TOKEN, POS_TAG, NEXT_TOKEN_POS, PREV_TOKE_POS, LAST_LETTER,       \n",
    "#             HAS_AA_BIKOLAAH, HAS_VAAV, HAS_HE]\n",
    "# )"
   ]
  },
  {
   "cell_type": "code",
   "execution_count": 43,
   "metadata": {},
   "outputs": [],
   "source": [
    "# runCrossValOnModel(\n",
    "#             tree.DecisionTreeClassifier(criterion='entropy', max_features=\"auto\"),           # add max_feature='auto' 96.82! time:1.34\n",
    "#             [TOKEN, POS_TAG, NEXT_TOKEN_POS, PREV_TOKE_POS, LAST_LETTER,       \n",
    "#             HAS_AA_BIKOLAAH, HAS_VAAV, HAS_HE]\n",
    "# )"
   ]
  },
  {
   "cell_type": "code",
   "execution_count": 44,
   "metadata": {},
   "outputs": [],
   "source": [
    "# runRandomSplitOnModel(\n",
    "#     tree.DecisionTreeClassifier(criterion='entropy'),\n",
    "#     [IS_VERB, TOKEN, POS_TAG, NEXT_TOKEN_POS,\n",
    "#     PREV_TOKE_POS, LAST_LETTER, TOKEN_LENGTH,\n",
    "#     HAS_AA_BIKOLAAH, HAS_VAAV, HAS_HE]\n",
    "# )"
   ]
  },
  {
   "cell_type": "code",
   "execution_count": 45,
   "metadata": {},
   "outputs": [],
   "source": [
    "# runRandomSplitOnModel(\n",
    "#         tree.DecisionTreeClassifier(),\n",
    "#         [TOKEN, POS_TAG, NEXT_TOKEN_POS,            #removed IS_VERB  97.01 / 93.04 / 93.68\n",
    "#         PREV_TOKE_POS, LAST_LETTER, TOKEN_LENGTH,\n",
    "#         HAS_AA_BIKOLAAH, HAS_VAAV, HAS_HE]\n",
    "# )"
   ]
  },
  {
   "cell_type": "code",
   "execution_count": 46,
   "metadata": {},
   "outputs": [],
   "source": [
    "# runRandomSplitOnModel(\n",
    "#         tree.DecisionTreeClassifier(),\n",
    "#         [TOKEN, POS_TAG, NEXT_TOKEN_POS,            #removed TOKEN_LENGTH: 97.00 / 93.16 / 93.56\n",
    "#         PREV_TOKE_POS, LAST_LETTER,\n",
    "#         HAS_AA_BIKOLAAH, HAS_VAAV, HAS_HE]\n",
    "# )"
   ]
  },
  {
   "cell_type": "code",
   "execution_count": 47,
   "metadata": {},
   "outputs": [],
   "source": [
    "# runRandomSplitOnModel(\n",
    "#         tree.DecisionTreeClassifier(),\n",
    "#         [TOKEN, POS_TAG, NEXT_TOKEN_POS,            #removed HAS_HE: 96.93 / 92.89 / 93.51\n",
    "#         PREV_TOKE_POS, LAST_LETTER,\n",
    "#         HAS_AA_BIKOLAAH, HAS_VAAV]\n",
    "# )"
   ]
  },
  {
   "cell_type": "code",
   "execution_count": 48,
   "metadata": {},
   "outputs": [],
   "source": [
    "# runRandomSplitOnModel(\n",
    "#         tree.DecisionTreeClassifier(),\n",
    "#         [TOKEN, POS_TAG, NEXT_TOKEN_POS,            #removed HAS_VAAV 97.006 / 93.07 / 93.66\n",
    "#         PREV_TOKE_POS, LAST_LETTER, TOKEN_LENGTH,\n",
    "#         HAS_AA_BIKOLAAH, HAS_HE]\n",
    "# )"
   ]
  },
  {
   "cell_type": "markdown",
   "metadata": {},
   "source": [
    "### At the end we define this function to take the last 100000 records for testing and the other for training"
   ]
  },
  {
   "cell_type": "code",
   "execution_count": 49,
   "metadata": {},
   "outputs": [],
   "source": [
    "def runModelOnLastOneHundredThousand(model, Xs):\n",
    "    X_train = df[Xs][ : -100000]\n",
    "    X_test = df[Xs][-100000: ]\n",
    "    Y_train = df[EZAFE_TAG][ : -100000]\n",
    "    Y_test = df[EZAFE_TAG][-100000: ]\n",
    "\n",
    "    model.fit(X_train, Y_train)\n",
    "    y_predict = model.predict(X_test)\n",
    "    print(f'Accuracy: {accuracy_score(Y_test, y_predict)}')\n",
    "\n",
    "    for parameter in ['binary', None, 'micro', 'macro', 'weighted']:\n",
    "        print(f'Precision [avg: {parameter}]: {precision_score(Y_test, y_predict, average=parameter)*100}')\n",
    "\n",
    "\n",
    "    for parameter in ['binary', None, 'micro', 'macro', 'weighted']:\n",
    "        print(f'Recall [avg: {parameter}]: {recall_score(Y_test, y_predict, average=parameter)*100}')"
   ]
  },
  {
   "cell_type": "code",
   "execution_count": 50,
   "metadata": {},
   "outputs": [
    {
     "name": "stdout",
     "output_type": "stream",
     "text": [
      "Accuracy: 0.96948\n",
      "Precision [avg: binary]: 93.85779368695086\n",
      "Precision [avg: None]: [97.95534104 93.85779369]\n",
      "Precision [avg: micro]: 96.94800000000001\n",
      "Precision [avg: macro]: 95.90656736431981\n",
      "Precision [avg: weighted]: 96.94668878484649\n",
      "Recall [avg: binary]: 93.73578160545986\n",
      "Recall [avg: None]: [97.99692242 93.73578161]\n",
      "Recall [avg: micro]: 96.94800000000001\n",
      "Recall [avg: macro]: 95.86635201465819\n",
      "Recall [avg: weighted]: 96.94800000000001\n"
     ]
    }
   ],
   "source": [
    "from sklearn.tree import DecisionTreeClassifier\n",
    "runModelOnLastOneHundredThousand(DecisionTreeClassifier(criterion='entropy'),\n",
    "    [IS_VERB, TOKEN, POS_TAG, NEXT_TOKEN_POS,\n",
    "    PREV_TOKE_POS, LAST_LETTER, TOKEN_LENGTH,\n",
    "    HAS_AA_BIKOLAAH, HAS_VAAV, HAS_HE])"
   ]
  }
 ],
 "metadata": {
  "interpreter": {
   "hash": "916dbcbb3f70747c44a77c7bcd40155683ae19c65e1c03b4aa3499c5328201f1"
  },
  "kernelspec": {
   "display_name": "Python 3.8.10 64-bit",
   "language": "python",
   "name": "python3"
  },
  "language_info": {
   "codemirror_mode": {
    "name": "ipython",
    "version": 3
   },
   "file_extension": ".py",
   "mimetype": "text/x-python",
   "name": "python",
   "nbconvert_exporter": "python",
   "pygments_lexer": "ipython3",
   "version": "3.8.10"
  },
  "orig_nbformat": 4
 },
 "nbformat": 4,
 "nbformat_minor": 2
}
