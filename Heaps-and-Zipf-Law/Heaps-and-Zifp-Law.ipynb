{
 "cells": [
  {
   "cell_type": "markdown",
   "metadata": {},
   "source": [
    "## First, to make things easier we define a class called Posting to store data for each posting"
   ]
  },
  {
   "cell_type": "markdown",
   "metadata": {},
   "source": [
    "### We also overload some comparison operators so later we can use list.sort() on a list containing objects of class \"Postings\""
   ]
  },
  {
   "cell_type": "markdown",
   "metadata": {},
   "source": [
    "### Also we overload the float() and int() functions so plt.plot() can accept a list of \"Postings\" objects as a Cordinate and plot \"Posting.frequency\""
   ]
  },
  {
   "cell_type": "code",
   "execution_count": 158,
   "metadata": {},
   "outputs": [],
   "source": [
    "# run with python 3.9 or higher to avoid error with type hints\n",
    "# a class containing each posting that stores a token with its frequency\n",
    "class Posting:\n",
    "    def __init__(self, token, frequency) -> None:\n",
    "        self.token = token\n",
    "        self.frequency = frequency\n",
    "\n",
    "# now we define some operator overloading to make way for python's list.sort() to sort a list containing \"Posting\" objects\n",
    "\n",
    "    def __lt__ (self, other) -> bool:\n",
    "        return self.frequency < other.frequency\n",
    "    \n",
    "    def __gt__ (self, other) -> bool :\n",
    "        return self.frequency > other.frequency\n",
    "    \n",
    "    def __le__ (self, other) -> bool:\n",
    "        return self.frequency <= other.frequency\n",
    "    \n",
    "    def __ge__ (self, other) -> bool:\n",
    "        return self.frequency >= other.frequency\n",
    "    \n",
    "    def __eq__ (self, other) -> bool:\n",
    "        return self.frequency == other.frequency\n",
    "    \n",
    "    def __ne__ (self, other) -> bool:\n",
    "        return self.frequency != other.frequency\n",
    "    \n",
    "    def __repr__(self) -> str:\n",
    "        return f\"\\\"{self.token}\\\": {self.frequency}\"\n",
    "    \n",
    "# and overload the float() and int() functions so plt.plot() can accept the X as a list of \"Posting\" objects\n",
    "\n",
    "    def __float__(self) -> float:\n",
    "        return float(self.frequency)\n",
    "\n",
    "    def __int__(self) -> int:\n",
    "        return int(self.frequency)"
   ]
  },
  {
   "cell_type": "markdown",
   "metadata": {},
   "source": [
    "# Then we define a Gerenator!\n",
    "## Generators in python make things faster. we don't need to tokenize the whole text at a time and save it somewhere like a list and then work on it"
   ]
  },
  {
   "cell_type": "markdown",
   "metadata": {},
   "source": [
    "## we get each token and index it just whenever we want it by generators."
   ]
  },
  {
   "cell_type": "code",
   "execution_count": 159,
   "metadata": {},
   "outputs": [],
   "source": [
    "def nextToken() -> str:  # gerenator \n",
    "    global text\n",
    "    i = 0\n",
    "    reading_valid_token = False\n",
    "    for j, chr in enumerate(text):\n",
    "        if chr.isalpha():\n",
    "            reading_valid_token = True\n",
    "        elif reading_valid_token:\n",
    "            yield text[i:j].lower()\n",
    "            i = j + 1\n",
    "            reading_valid_token = False\n",
    "        else:\n",
    "            i = j + 1\n",
    "    return ''"
   ]
  },
  {
   "cell_type": "code",
   "execution_count": 160,
   "metadata": {},
   "outputs": [],
   "source": [
    "import time"
   ]
  },
  {
   "cell_type": "markdown",
   "metadata": {},
   "source": [
    "# In this example our dataset is a single file. So in the begginning we read it and store it in a global variable \"text\"\n"
   ]
  },
  {
   "cell_type": "code",
   "execution_count": 161,
   "metadata": {},
   "outputs": [],
   "source": [
    "beggin_time = time.perf_counter()\n",
    "text = open(\"./shakespear/text.txt\").read()"
   ]
  },
  {
   "cell_type": "markdown",
   "metadata": {},
   "source": [
    "# Now, to plot the wanted graph. we keep ther ratio between total words count and unique words cound while progressing the text."
   ]
  },
  {
   "cell_type": "markdown",
   "metadata": {},
   "source": [
    "### We also keep the frequecy of each token in \"known_words\" to use later in zipf law"
   ]
  },
  {
   "cell_type": "code",
   "execution_count": 162,
   "metadata": {},
   "outputs": [],
   "source": [
    "\n",
    "all_words_count = [1]\n",
    "new_words_count = [1]\n",
    "known_words = {nextToken(): 1}\n"
   ]
  },
  {
   "cell_type": "markdown",
   "metadata": {},
   "source": [
    "# Now we have the tool to start tokenizing and indexing."
   ]
  },
  {
   "cell_type": "markdown",
   "metadata": {},
   "source": [
    "### As mentioned, we use the generator we defined earlier and do a for loop over it to catch each token just when we need it."
   ]
  },
  {
   "cell_type": "markdown",
   "metadata": {},
   "source": [
    "### This causes no extra copy"
   ]
  },
  {
   "cell_type": "markdown",
   "metadata": {},
   "source": [
    "### At each step, we check to see if the current token is new or not. since we use python dict which uses hash tables, this operation takes O(1)"
   ]
  },
  {
   "cell_type": "markdown",
   "metadata": {},
   "source": [
    "#### If it was new: we increment its frequency, increment the total number of words and append it to all_words_count, append the last number of unique words to new_words_count.\n",
    "#### If not: we add it to our known_words dictionary and set its frequecy to 1, increment the total number of words and apeend it to all_words_count again, increment the number of unique words and append it to new_words_count."
   ]
  },
  {
   "cell_type": "code",
   "execution_count": 163,
   "metadata": {},
   "outputs": [
    {
     "name": "stdout",
     "output_type": "stream",
     "text": [
      "read file and indexed 208504 words in 0.2606600960061769 seconds!\n"
     ]
    }
   ],
   "source": [
    "\n",
    "for token in nextToken():\n",
    "    if token in known_words:\n",
    "        known_words[token] += 1\n",
    "        all_words_count.append(all_words_count[-1] + 1) # all_words will always be like: [1, 2, 3, 4, 5, 6, 7, ...]\n",
    "        new_words_count.append(new_words_count[-1])\n",
    "    else:\n",
    "        known_words[token] = 1\n",
    "        all_words_count.append(all_words_count[-1] + 1) # all_words will always be like: [1, 2, 3, 4, 5, 6, 7, ...]\n",
    "        new_words_count.append(new_words_count[-1] + 1)\n",
    "\n",
    "\n",
    "\n",
    "print(f\"read file and indexed {len(all_words_count)} words in {time.perf_counter() - beggin_time} seconds!\")"
   ]
  },
  {
   "cell_type": "markdown",
   "metadata": {},
   "source": [
    "### And a simple messure of perfomance"
   ]
  },
  {
   "cell_type": "markdown",
   "metadata": {},
   "source": [
    "# Heaps law"
   ]
  },
  {
   "cell_type": "markdown",
   "metadata": {},
   "source": [
    "### We're almost done. now we just apply a log to our couner arrays and plot them."
   ]
  },
  {
   "cell_type": "markdown",
   "metadata": {},
   "source": [
    "### After that we use linear regression to find the best line fitting througth the plotting. And print the line equation.\n",
    "### Then we plot the calculated line too."
   ]
  },
  {
   "cell_type": "markdown",
   "metadata": {},
   "source": [
    "## First let's see the plot without applying log:\n",
    "#### it looks like they have a logarithmic relation. (the plot looks logarithmic function)"
   ]
  },
  {
   "cell_type": "code",
   "execution_count": 164,
   "metadata": {},
   "outputs": [
    {
     "data": {
      "text/plain": [
       "[<matplotlib.lines.Line2D at 0x7fe24de63340>]"
      ]
     },
     "execution_count": 164,
     "metadata": {},
     "output_type": "execute_result"
    },
    {
     "data": {
      "image/png": "[encoded data removed]",
      "text/plain": [
       "<Figure size 432x288 with 1 Axes>"
      ]
     },
     "metadata": {
      "needs_background": "light"
     },
     "output_type": "display_data"
    }
   ],
   "source": [
    "plt.plot(all_words_count, new_words_count)"
   ]
  },
  {
   "cell_type": "markdown",
   "metadata": {},
   "source": [
    "### but when we apply a logarithm. the graph gets almost linear. see:"
   ]
  },
  {
   "cell_type": "code",
   "execution_count": 165,
   "metadata": {},
   "outputs": [
    {
     "name": "stdout",
     "output_type": "stream",
     "text": [
      "line equation: Y = 0.5874243296368283 X + 0.9506997661359753\n"
     ]
    },
    {
     "data": {
      "image/png": "[encoded data removed]",
      "text/plain": [
       "<Figure size 432x288 with 1 Axes>"
      ]
     },
     "metadata": {
      "needs_background": "light"
     },
     "output_type": "display_data"
    }
   ],
   "source": [
    "import matplotlib.pyplot as plt\n",
    "import math\n",
    "X_cordinate = [math.log10(i) for i in all_words_count]\n",
    "Y_cordinate = [math.log10(i) for i in new_words_count]\n",
    "plt.plot(X_cordinate, Y_cordinate)\n",
    "plt.title(\"Heap law\")\n",
    "plt.ylabel(\"New(unique) words\")\n",
    "plt.xlabel(\"Total words\")\n",
    "from scipy import stats\n",
    "slope, intercept, r, p, std_err = stats.linregress(X_cordinate, Y_cordinate)\n",
    "print(f\"line equation: Y = {slope} X + {intercept}\")\n",
    "plt.plot(X_cordinate, [slope*x + intercept for x in X_cordinate])\n",
    "plt.legend([\"Original data\", \"Predicted\"])\n",
    "plt.show()\n"
   ]
  },
  {
   "cell_type": "markdown",
   "metadata": {},
   "source": [
    "# Now the zipf law:\n",
    "### First we need to sort our postings by their frequency. Now it would be easy since the operator overloadings we did"
   ]
  },
  {
   "cell_type": "markdown",
   "metadata": {},
   "source": [
    "### We create and sort -descending- the array of postings by their frequency. we simply use list.sort() "
   ]
  },
  {
   "cell_type": "code",
   "execution_count": 166,
   "metadata": {},
   "outputs": [
    {
     "name": "stdout",
     "output_type": "stream",
     "text": [
      "Top 20 most frequent tokens:\n",
      "\"the\": 6287\n",
      "\"and\": 5690\n",
      "\"i\": 5111\n",
      "\"to\": 4934\n",
      "\"of\": 3760\n",
      "\"you\": 3211\n",
      "\"my\": 3120\n",
      "\"a\": 3018\n",
      "\"that\": 2664\n",
      "\"in\": 2403\n",
      "\"is\": 2118\n",
      "\"not\": 2015\n",
      "\"for\": 1926\n",
      "\"s\": 1859\n",
      "\"with\": 1813\n",
      "\"it\": 1773\n",
      "\"me\": 1769\n",
      "\"be\": 1710\n",
      "\"your\": 1686\n",
      "\"he\": 1606\n"
     ]
    }
   ],
   "source": [
    "sorted_postings = [Posting(*posting) for posting in known_words.items()]\n",
    "sorted_postings.sort(reverse=True)\n",
    "print(\"Top 20 most frequent tokens:\")\n",
    "print(*sorted_postings[:20], sep='\\n')\n"
   ]
  },
  {
   "cell_type": "markdown",
   "metadata": {},
   "source": [
    "## First without a log:\n",
    "### As you see it look useless. "
   ]
  },
  {
   "cell_type": "code",
   "execution_count": 167,
   "metadata": {},
   "outputs": [
    {
     "data": {
      "text/plain": [
       "[<matplotlib.lines.Line2D at 0x7fe24db34520>]"
      ]
     },
     "execution_count": 167,
     "metadata": {},
     "output_type": "execute_result"
    },
    {
     "data": {
      "image/png": "[encoded data removed]",
      "text/plain": [
       "<Figure size 432x288 with 1 Axes>"
      ]
     },
     "metadata": {
      "needs_background": "light"
     },
     "output_type": "display_data"
    }
   ],
   "source": [
    "plt.plot(range(1, len(sorted_postings)+1), sorted_postings)"
   ]
  },
  {
   "cell_type": "markdown",
   "metadata": {},
   "source": [
    "## Now we do log again to prepare the data to plot."
   ]
  },
  {
   "cell_type": "markdown",
   "metadata": {},
   "source": [
    "### Now it gets almost linear\n",
    "### Then we find the best line fitting througth the data same again."
   ]
  },
  {
   "cell_type": "code",
   "execution_count": 168,
   "metadata": {},
   "outputs": [
    {
     "name": "stdout",
     "output_type": "stream",
     "text": [
      "line equation: Y = -1.3158590371997116 X + 5.2295504538415365\n"
     ]
    },
    {
     "data": {
      "image/png": "[encoded data removed]",
      "text/plain": [
       "<Figure size 432x288 with 1 Axes>"
      ]
     },
     "metadata": {
      "needs_background": "light"
     },
     "output_type": "display_data"
    }
   ],
   "source": [
    "X_cordinate = [math.log10(i) for i in range(1, len(sorted_postings)+1)]\n",
    "Y_cordinate = [math.log10(posting) for posting in sorted_postings]\n",
    "plt.plot(X_cordinate, Y_cordinate)\n",
    "slope, intercept, r, p, std_err = stats.linregress(X_cordinate, Y_cordinate)\n",
    "print(f\"line equation: Y = {slope} X + {intercept}\")\n",
    "plt.plot(X_cordinate, [slope*x + intercept for x in X_cordinate])\n",
    "plt.legend([\"Original data\", \"Predicted\"])\n",
    "plt.show()"
   ]
  },
  {
   "cell_type": "markdown",
   "metadata": {},
   "source": [
    "# Conclusion:"
   ]
  },
  {
   "cell_type": "markdown",
   "metadata": {},
   "source": [
    "#### We read and indexed a huge file, mined the tokens and terms. Then checked relation between the unique and total word (Heap law) and relation between rank and frequecy (zipf law) of them.\n",
    "#### We saw that without applying a logarithm they may be useless specially in zipf. To normalize and get them usable we should apply a logarithm.\n",
    "#### When we did so, we saw that the in Heap case relation got so close to linear. also zipf got more usable. \n",
    "#### In zipf case without logarithm it was a complete mess and not usable or reliable (in a situation that we want to rank some documents by their words frequncy. we should consider applying a log on it)\n",
    "## \n"
   ]
  },
  {
   "cell_type": "markdown",
   "metadata": {},
   "source": [
    "#### we can also conclude from Heap law that the relation between logarithm of number of unique words and total words is so close to linear while without it. as we progress througth the text the growth of unique words falls [almost logarithmic] relative to total number of words. it makes more scense when we apply a logarithm and it gets nearly linear.\n",
    "#### and by the zipf law we can conclude that the relation between logarithm of rank and frequency of words is so close to o even more than exponential. it makes more scense when we apply logarithm it gets close to or more than linear[with negative slope]."
   ]
  }
 ],
 "metadata": {
  "interpreter": {
   "hash": "916dbcbb3f70747c44a77c7bcd40155683ae19c65e1c03b4aa3499c5328201f1"
  },
  "kernelspec": {
   "display_name": "Python 3.8.10 64-bit",
   "language": "python",
   "name": "python3"
  },
  "language_info": {
   "codemirror_mode": {
    "name": "ipython",
    "version": 3
   },
   "file_extension": ".py",
   "mimetype": "text/x-python",
   "name": "python",
   "nbconvert_exporter": "python",
   "pygments_lexer": "ipython3",
   "version": "3.8.10"
  },
  "orig_nbformat": 4
 },
 "nbformat": 4,
 "nbformat_minor": 2
}
